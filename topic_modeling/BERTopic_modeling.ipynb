{
 "cells": [
  {
   "cell_type": "code",
   "execution_count": 1,
   "metadata": {},
   "outputs": [],
   "source": [
    "#file = open(\"./file.txt\", \"r\")\n",
    "#FileContent = file.read().strip()"
   ]
  },
  {
   "cell_type": "code",
   "execution_count": 29,
   "metadata": {},
   "outputs": [],
   "source": [
    "import numpy as np\n",
    "import pandas as pd\n",
    "from copy import deepcopy\n",
    "from bertopic import BERTopic\n",
    "import emoji\n",
    "import regex as re"
   ]
  },
  {
   "cell_type": "code",
   "execution_count": 30,
   "metadata": {},
   "outputs": [
    {
     "data": {
      "text/plain": [
       "'The deliberations by the world leaders will shape the future of our struggle against climate change. What we face today is the challenge of the century. We have a duty to leave a clean and green environment to our coming generations. At #COP27, we should vow to succeed at all costs'"
      ]
     },
     "execution_count": 30,
     "metadata": {},
     "output_type": "execute_result"
    }
   ],
   "source": [
    "df = pd.read_csv(\"text-query-tweets.csv\")\n",
    "df = df.astype(str).apply(lambda x: x.str.encode('ascii', 'ignore').str.decode('ascii')) # Get rid of emojis\n",
    "df.columns = df.columns.str.lower() # Lower columns\n",
    "df[\"tweet\"] = df[\"tweet\"].str.replace(\"&amp;\", \"and\")\n",
    "df['tweet'][48]"
   ]
  },
  {
   "cell_type": "code",
   "execution_count": 31,
   "metadata": {},
   "outputs": [
    {
     "name": "stderr",
     "output_type": "stream",
     "text": [
      "[nltk_data] Downloading package stopwords to /Users/lst/nltk_data...\n",
      "[nltk_data]   Package stopwords is already up-to-date!\n",
      "[nltk_data] Downloading package punkt to /Users/lst/nltk_data...\n",
      "[nltk_data]   Package punkt is already up-to-date!\n"
     ]
    },
    {
     "data": {
      "text/html": [
       "<div>\n",
       "<style scoped>\n",
       "    .dataframe tbody tr th:only-of-type {\n",
       "        vertical-align: middle;\n",
       "    }\n",
       "\n",
       "    .dataframe tbody tr th {\n",
       "        vertical-align: top;\n",
       "    }\n",
       "\n",
       "    .dataframe thead th {\n",
       "        text-align: right;\n",
       "    }\n",
       "</style>\n",
       "<table border=\"1\" class=\"dataframe\">\n",
       "  <thead>\n",
       "    <tr style=\"text-align: right;\">\n",
       "      <th></th>\n",
       "      <th>user</th>\n",
       "      <th>date created</th>\n",
       "      <th>number of likes</th>\n",
       "      <th>retweets</th>\n",
       "      <th>source of tweet</th>\n",
       "      <th>tweet</th>\n",
       "      <th>clean_text</th>\n",
       "    </tr>\n",
       "  </thead>\n",
       "  <tbody>\n",
       "    <tr>\n",
       "      <th>0</th>\n",
       "      <td>DiEM_25</td>\n",
       "      <td>2022-11-07</td>\n",
       "      <td>55460</td>\n",
       "      <td>17928</td>\n",
       "      <td>Twitter Web App</td>\n",
       "      <td>The world's elite have arrived at #COP27 on hu...</td>\n",
       "      <td>world 's elite arrived hundreds private jets l...</td>\n",
       "    </tr>\n",
       "    <tr>\n",
       "      <th>1</th>\n",
       "      <td>RishiSunak</td>\n",
       "      <td>2022-11-07</td>\n",
       "      <td>38526</td>\n",
       "      <td>2389</td>\n",
       "      <td>Twitter Web App</td>\n",
       "      <td>Friends Partners Allies Great to meet with  to...</td>\n",
       "      <td>friends partners allies great meet today</td>\n",
       "    </tr>\n",
       "    <tr>\n",
       "      <th>2</th>\n",
       "      <td>_david_ho_</td>\n",
       "      <td>2022-11-07</td>\n",
       "      <td>22782</td>\n",
       "      <td>4326</td>\n",
       "      <td>Twitter for iPhone</td>\n",
       "      <td>At this point, maybe we should ask women for h...</td>\n",
       "      <td>point maybe ask women help</td>\n",
       "    </tr>\n",
       "    <tr>\n",
       "      <th>3</th>\n",
       "      <td>JamesMelville</td>\n",
       "      <td>2022-11-06</td>\n",
       "      <td>21759</td>\n",
       "      <td>5467</td>\n",
       "      <td>Twitter for iPhone</td>\n",
       "      <td>Climate change will ravage our planet without ...</td>\n",
       "      <td>climate change ravage planet without urgent ac...</td>\n",
       "    </tr>\n",
       "    <tr>\n",
       "      <th>4</th>\n",
       "      <td>antonioguterres</td>\n",
       "      <td>2022-11-07</td>\n",
       "      <td>19139</td>\n",
       "      <td>7355</td>\n",
       "      <td>Twitter for iPhone</td>\n",
       "      <td>I have just warned global leaders at #COP27:We...</td>\n",
       "      <td>warned global leaders highway climate hell foo...</td>\n",
       "    </tr>\n",
       "  </tbody>\n",
       "</table>\n",
       "</div>"
      ],
      "text/plain": [
       "              user date created number of likes retweets     source of tweet  \\\n",
       "0          DiEM_25   2022-11-07           55460    17928     Twitter Web App   \n",
       "1       RishiSunak   2022-11-07           38526     2389     Twitter Web App   \n",
       "2       _david_ho_   2022-11-07           22782     4326  Twitter for iPhone   \n",
       "3    JamesMelville   2022-11-06           21759     5467  Twitter for iPhone   \n",
       "4  antonioguterres   2022-11-07           19139     7355  Twitter for iPhone   \n",
       "\n",
       "                                               tweet  \\\n",
       "0  The world's elite have arrived at #COP27 on hu...   \n",
       "1  Friends Partners Allies Great to meet with  to...   \n",
       "2  At this point, maybe we should ask women for h...   \n",
       "3  Climate change will ravage our planet without ...   \n",
       "4  I have just warned global leaders at #COP27:We...   \n",
       "\n",
       "                                          clean_text  \n",
       "0  world 's elite arrived hundreds private jets l...  \n",
       "1          friends partners allies great meet today   \n",
       "2                        point maybe ask women help   \n",
       "3  climate change ravage planet without urgent ac...  \n",
       "4  warned global leaders highway climate hell foo...  "
      ]
     },
     "execution_count": 31,
     "metadata": {},
     "output_type": "execute_result"
    }
   ],
   "source": [
    "import re\n",
    "import nltk\n",
    "from nltk.corpus import stopwords\n",
    "from nltk.tokenize import word_tokenize\n",
    "from nltk.stem import WordNetLemmatizer\n",
    "  \n",
    "lemmatizer = WordNetLemmatizer() # BERTopic works better without words lemmatization \n",
    "nltk.download('stopwords')\n",
    "nltk.download('punkt')\n",
    "\n",
    "stop_words = stopwords.words('english')\n",
    "\n",
    "def clean_text(x):\n",
    "  x = str(x)\n",
    "  x = x.lower()\n",
    "  x = re.sub(r'#[A-Za-z0-9]*', ' ', x)\n",
    "  x = re.sub(r'https*://.*', ' ', x)\n",
    "  x = re.sub(r'@[A-Za-z0-9]+', ' ', x)\n",
    "  tokens = word_tokenize(x) # Tokenisation is very important for BERTopic\n",
    "  #x = lemmatizer.lemmatize(x) # For BerTOPIC we dont lemmatise words!\n",
    "  tokens = word_tokenize(x)\n",
    "  x = ' '.join([w for w in tokens if not w.lower() in stop_words])\n",
    "  x = re.sub(r'[%s]' % re.escape('!\"#$%&\\()*+,-./:;<=>?@[\\\\]^_`{|}~“…”’'), ' ', x)\n",
    "  x = re.sub(r'\\d+', ' ', x)\n",
    "  x = re.sub(r'\\n+', ' ', x)\n",
    "  x = re.sub(r'\\s{2,}', ' ', x)\n",
    "  return x\n",
    "\n",
    "\n",
    "df['clean_text'] = df.tweet.apply(clean_text)\n",
    "df.head()"
   ]
  },
  {
   "cell_type": "code",
   "execution_count": 32,
   "metadata": {},
   "outputs": [
    {
     "data": {
      "text/plain": [
       "[\"world 's elite arrived hundreds private jets lecture climate change sponsored coca cola \",\n",
       " 'friends partners allies great meet today ',\n",
       " 'point maybe ask women help ',\n",
       " 'climate change ravage planet without urgent action rishi sunak',\n",
       " 'warned global leaders highway climate hell foot accelerator our planet fast approaching tipping points make climate chaos irreversible we need urgent ',\n",
       " 'rich people flying private jets un talks sponsored coca cola give fossil fuel industry huge seat table criminalizing climate activists way stop irreversible catastrophic fossil fueled global heating ',\n",
       " 'cop sponsored coca cola worlds top plastic polluter produce billion throwaway plastic bottles year ',\n",
       " ' private jets world leaders flying climate summit discuss reduce carbon emission',\n",
       " \"brother last glass water prison please keep story alive 's saved this afternoon 'm flying sharm civil society pass egyptian regime claims civic space exists 'll testing \",\n",
       " 'egypt attend',\n",
       " 'incoming reports polish journalists business leaders plying ukrainian national anthem phones whenever spot group russians un climate summit starting egypt the russians arent happy ',\n",
       " 'dude lecturing carbon footprint',\n",
       " 'finally also great see keeping conservative tradition regular u turns ',\n",
       " \"oliver dowden 's claim pm personally committed '' climate action ludicrous shamed going plans huge new oil gas extraction failed meet financial pledges climate vulnerable countries removed climate ministers cabinet\",\n",
       " 'pm credibility urges others keep glasgow commitments govt hasnt met finance pledges hasnt raised ambition uk emission cuts continuing fossil fuel subsidies wont rule new coal greenlighting oil gas',\n",
       " 'made dramatic u turn giving toss climate change forced pretend give toss climate change ',\n",
       " \"rishi sunak trumpets plan investing renewables '' plan includes banning onshore wind blocks new solar farms windfall tax gigantic loophole continued climate wrecking fossil fuel investment \",\n",
       " 'hypocrisy ',\n",
       " 'say ',\n",
       " 'climate crisis fight lives losing but one thing certain give sure lose so lets fight together and lets win ',\n",
       " 'man last row pm country suffered recently due climate change ',\n",
       " 'dragged kicking screaming showing real leadership required home abroad weak wobbly prime minister day trip ',\n",
       " 'simple effective message pakistan pavilion ',\n",
       " \"earth rishi sunak claim 's delivering '' leadership '' 've seen climate ministers booted cabinet swathe new oil gas licences failure rule cumbria coal mine flip flopping even attending\",\n",
       " \"demands urgent action everyone renewables solution climate energy crises let 's accelerate energy transition \",\n",
       " 'ed milibands climate reparations shows people like left lost marbles ',\n",
       " 'case missed egypt lit khafre pyramid one three ancient pyramids giza date back years ahead ',\n",
       " \"met fellow leaders african nations sidelines discuss bilateral regional issues continue work solidarity find african solutions africa 's problems strive resilient continent \",\n",
       " 'world leaders prepare travel discuss climate change heres reminder joe biden arrived glasgow',\n",
       " 'ever going get pm doesnt bow media leftist pressure weak',\n",
       " 'humanity tipping point must achieve climate justice support poorest loss damage deliver systemic change global scale running time solidarity climate activists human rights defenders wait longer ',\n",
       " 'held discussions leaders several countries bilateral strategic issues alongside also met leaders continental international organizations discuss issues mutual interest ',\n",
       " 'uk prime minister rushed room aides middle launch forests partnership',\n",
       " 'need loss damage finance facility need climate justice need action time running decision makers need step',\n",
       " \"yesterday minister affairs mlanie joly arrived egypt so far year 've flown million kilometres tell world canadians pollute much all leaders agree one solution higher taxes \",\n",
       " 'breaking m blocked supporters stop oil climbed onto overhead gantries m multiple locations halting traffic demanding government halts new oil gas consents licences anything less death sentence ',\n",
       " 'underway come humans lots time loose ',\n",
       " 'cop many billionaires gon na land private jets lecture us consumption habits year ',\n",
       " 'happy week one ',\n",
       " 'told us wear masks socially distance yet held lavish parties they told us save planet yet travelled private jet motorcade told us play rules played set rules taking piss ',\n",
       " \"united nations climate summit kicks today sharm el sheikh city egypt finally loss damage finance agenda adopted today seek compensation liabilities rich countries historical polluters it 's time \",\n",
       " 'begins today climate world succeed fail one must make two weeks count ',\n",
       " 'breaking uk prime minister rishi sunak rushed conference room aides ahead speech mysterious circumstances',\n",
       " 'outcome would different attendance limited alive ',\n",
       " 'last years track warmest record sea levels rising twice speed s we must answer planets distress signal ambitious credible must place must time ',\n",
       " 'want turn uk green energy superpower accepted k donors fossil fuel connections said busy attend stopped climate minister attending cabinet ',\n",
       " 'sunak earnestly tells great current prime minister last pm shows leading world debateyeah right thatll rather pair total frauds engaged ego wrestling sideshow ',\n",
       " 'imagine live frightening possibility young people like yaala maldives paying highest price crisis making ',\n",
       " 'deliberations world leaders shape future struggle climate change face today challenge century duty leave clean green environment coming generations vow succeed costs',\n",
       " 'way egypt ',\n",
       " \"finally leave tomorrow egypt attend representing india voice millions children world urge world leaders deliver concrete climate action loss damage caused climate crisis 's time climate justice \",\n",
       " 'duration ill something different account portal egypt currently covered epic police state controlled coca cola sponsored hill knowlton spun greenwashing ',\n",
       " \"glad see sunak 's screeching u turn embarrassing mis step world stage let lesson climate leadership matters urgently needs increase uk ambition emission reduction targets pay owe global climate funds\",\n",
       " 'informed police highway authority yesterday would disrupted knew chose warn public sound familiar fire floods drought disruption climate chaos wont end must stop new oil gas ',\n",
       " \"impacts climate change loss damage cause longer ignored must agree clear time bound roadmap reflective scale urgency challenge it 's moral imperative question solidarity climate justice\",\n",
       " 'climate change seen greatest challenge face man treated much bigger priority united kingdom king charles iii',\n",
       " 'first time since adoption un climate convention parties agreed introduce funding agenda item climate conference ',\n",
       " 'private jet motorcade travelling political leaders hypocritically virtue signal sponsored coca cola conveniently forgotten contributed environmental catastrophe billion covid masks pollute oceans ',\n",
       " 'desperate hope world looking herea year ago today sir david attenborough addressed world leaders opening ceremony with less one week powerful words still ring true',\n",
       " 'polish journalist covering un climate summit egypt greets russians hotel restaurant patriotic ukrainian song loud slava ukraini ',\n",
       " 'good first meeting prime minister margins face many common challenges tackling climate change energy transition russias war ukraine look forward constructive cooperation based agreements ',\n",
       " 'must immediately end use fossil fuels build massive amounts solar wind electrify everything conserve find solutions last hard stuff planes cement stop cutting trees ',\n",
       " 'evening sharm el sheikh president kagame held talks president dr william ruto kenya ahead two leaders discussed continued positive fruitful bilateral relationship kenya rwanda ',\n",
       " 'consumption richest people global society global emissions emitted population global emissions population needs recognise climate justice richmust change',\n",
       " \"thoughts questions first plan quickly ramping fossil fuel industry comes meeting 's failure 's bottom line fossil fuels cause ramping industry must core solutions package \",\n",
       " ' countries almost entirely powered iceland paraguay norway costa rica solutions ',\n",
       " 'believe allowed answer cop questions today days egypt another sign climate wrecking pm get',\n",
       " 'droughts heatwaves floods devastating impact food production the unfolding global food crisis stopped nations manage climate crisis at leaders must commit find climate solutions help stop prevent hunger ',\n",
       " 'urgently need shared global goal nature like c goal already climate halting biodiversity loss enough say must ',\n",
       " 'first minister met prime minister barbados ahead egypt scotland committed engaging barbados find new areas collaboration particularly energy addressing achieving ',\n",
       " 'tomorrow opening send clear signal world leaders urgency demands things differently let us use cop find common ground reflect urgency actions ',\n",
       " 'rspb calls attend egypt nature climate emergencies deeply intertwined need pm build legacy glasgow cop show global leadership needs positive advocate role nature solving global crisis ',\n",
       " 'treating us like suckers ',\n",
       " \"sunak 's multi billion giveaway stick throats red wall voters still waiting levelling '' money promised how sunak find billions clean energy '' third world working class voters ca n't even afford switch heating \",\n",
       " 'rspb calls attend egypt nature climate emergencies deeply intertwined need pm build legacy glasgow cop show global leadership needs positive advocate role nature solving global crisis ',\n",
       " 'last year asked world leaders open hearts entering cop negotiations many yet take climate crisis seriously at leaders must show care people open eyes realities climate inaction ',\n",
       " \"droughts europe made hunger stones '' visible year stones used mark desperately low river levels would forecast famines one elbe river says see cry '' time wait \",\n",
       " 'heading along half plane ive since cop missed bali india cops due maternity leave kids grown emissions due working',\n",
       " \"held egypt watershed humanity 's fight climate change global warming extreme climatic events pakistan horn africa year showcased globalisation climate change turning blind eye lethal effects criminal \",\n",
       " 'elected president sameh shoukry addresses climate envoys delegates opening plenary ',\n",
       " \" science clear hope limiting temperature rise degrees means achieving global net zero emissions degree goal life support machines rattling '' secretary general \",\n",
       " 'climate disasters already hurting countries communities economies next week start egypt present crucial opportunity leaders make meaningful progress climate promises must become global priority need ',\n",
       " 'sunak lecturing leaders need couldnt even arsed attend boris johnson threatened upstage peak tory britain whole world see ',\n",
       " ' climate change ravage planet without urgent action sunak sunak gives heated swimming pool downgrades two homes give spare practice preach ignore we together ',\n",
       " \" 're joining family global leaders dev ' partners advance get details events 're hosting partners explore key climate issues incl partnerships youth climate justice \",\n",
       " 'believe complete waste time money agree yes yes yes',\n",
       " \"let king go 's actual opportunity present better side uk influence go lead \",\n",
       " 'always pleasure meet friend h e today reviewed task rehabilitation thanked sg creating un inter agency team prepare comprehensive reconstruction plan empathetic leadership key addressing climate change ',\n",
       " 'catastrophic climate disasters continue upend lives millions children south asia leaving desperately need support survive world leaders unite unicef calls ensure children centre climate decisions ',\n",
       " 'oil natural gas playing ongoing role africas energy mix years come renewables expensive unreliable cant heavy lifting need drill gas make energy poverty history fighting climate change ',\n",
       " 'live egypt opening ceremony',\n",
       " 'human alive antithesis spirit glasgow boris johnson ',\n",
       " 'inconvenient truth ',\n",
       " 'must put us back track cut emissionsboost climate resilience adaptationkeep promise climate financeaddress loss damage resulting climate crisis ',\n",
       " 'boris johnson showing like david brent kept turning work sacked',\n",
       " 'leave yesterday egypt due short funds im getting delayed im going travel way thousands kilometres india selling tea tell world leaders provide urgent climate finance save planetand future ',\n",
       " \" world 's richest percent responsible estimated share global co emissionsif want reduce emissions maybe lockdown likes bill gates co good startdo lot virtue signalling\",\n",
       " 'welcomes world leaders climate envoys delegates civil society around world years sharm el sheikh climate implementation summit action meets ambition ',\n",
       " 'must place rebuild trust re establish ambition needed avoid driving planet climate cliff we need much faster bolder ',\n",
       " 'lula becomes president brazil beating fascist far right bolsonaro triumph hope compassion ambition better future brazilians ahead great news global shared world',\n",
       " 'opening plenary commenced election sameh shoukry cop president parties ',\n",
       " 'welcome egypt president president love rwanda',\n",
       " 'egypt lighting',\n",
       " 'met leading kenyan environmentalist founder championing climate action globally kenyathrough tree growing addressed world leaders cop address sharm el sheikh egypt viva ',\n",
       " 'rishi sunak attending govt lift ridiculous ban king charles attending ',\n",
       " 'indigo rumblelow spokespersonfor stop oil london said expect government complicit illegal unconstitutionalplan issue licences consents new oil gas plan take world c',\n",
       " ' rife disasters impacting youth across join conversation share first hand encounters',\n",
       " \" humanity choice cooperate perish speaking world leaders summit un secretary general called historic pact developed emerging economies '' avoid runaway \",\n",
       " 'face many challenges climate change biggest this implementation summit keep track promises we need everything keep degrees reach europe stays course ',\n",
       " \"hardly major new package '' rishi sunak 's rehashing bn already committed glasgow 's finance m missing owe adaptation funds creative accounting wo n't solve\",\n",
       " 'holding people account presidents prime ministers ceos our policies businesses infrastructure actions must align my signal change today opening ',\n",
       " 'still chance rapidly losing id say c intensive care either act immediately strong way lost probably lost ever spot huge amount stake',\n",
       " 'must deliver massive emissions reductions money loss damage social justiceas negotiations failed last years carbon dioxide levels still going causing rising global temperatures c rising',\n",
       " \"'s gov't one world 's ambitious green plans reduction target enshrined law we need industrialzed nations raise level ambition 's next \",\n",
       " \"n't flown plane since see clearly every flight makes earth irreversibly hotter everything means way 'd fly corporate greenwash fest like cop must prove 's serious ending fossil fuel industry 's \",\n",
       " \"exactly scotland 's first minister defends decision go despite receiving criticism back home fc\",\n",
       " 'delighted meet friend uae president hh sheikh today discussed israeli emirati cooperation climate issues regional developments middle east ',\n",
       " \"postponed days race set donald 's ambition raise awareness fragility worldwide one keys improving climate environment beneath feet \",\n",
       " 'rishi sunak wrong attend agree yes yes yes',\n",
       " 'today president kagame launched ireme invest rwandas green investment facility raised million first capitalization facility invest private sector led green growth rwanda availing sustainable finance ',\n",
       " 'premint promob o g o f first get free nft airdrop public mintprice ethmint trees planted per nft million tree planting initiative',\n",
       " 'multiple homes multiple cars private jets helicopters etcthe hypocrisy preaching us astounding the event soundbites virtue signalling political dodgy dealings masked climate support the average brit sick ',\n",
       " 'asked years old girl carbon emissions fly attend ever ask modi ji travel attend cops free trip result hard work sweats last years atleast offset carbon footprints ',\n",
       " 'always pleasure joining time egypt discussed climate loss damage flooding pakistan effects russia ukrainian crisis attack former pm thread',\n",
       " ' registered egypt climate talks private jets thousands vehicles message today hold citizens accountable climate change make better unbelievable touch fact people choose heat eat ',\n",
       " 'rishi sunaks dithering nearly left us empty chaired world stage doesnt get it real leadership would safeguard britains industrial future energy security new jobs valuable exports cutting bills good ',\n",
       " 'egyptian foreign minister sameh shoukry officially receives cop presidency former president',\n",
       " 'way becoming global value chain ready demonstrate capabilities world join mr chairman ',\n",
       " 'message uk pm today end finance new fossil fuels massively scale investments renewables call fund help communities cope devastating impacts climate crisis ',\n",
       " \" country built pyramids '' barbados pm mia mottley slams inaction climate crisis \",\n",
       " 'important rishi sunak fucked early meeting ',\n",
       " 'worlds biggest carbon polluters country annually metric tons ',\n",
       " 'world leaders gather kicks today world watching calling cop acts commitments developing nations demanding previous commitments finance upheld read',\n",
       " 'boris johnson going isnt minister charge brief hes already holiday speaking engagements backbench mp therefore working contingency matters whip withdrawn ',\n",
       " 'dave angel eco warrior breakfast delegates hotel',\n",
       " \"'s likely unless freed one prominent voices arab spring british egyptian die prison world leaders including biden egypt brutal imprisonment almost decade he n't even get consular visit \",\n",
       " 'special way sharm el sheikh take opportunity thank president appointing ps national treasury honor privilege serve position among m equally deserving kenyans',\n",
       " \"julian assange faces year sentence extradited truthful reporting including ways powerful nations undermined climate actionprosecuting assange puts everyone 's right know peril\",\n",
       " \"surely reject idea britain paying 'climate reparations ' poorer countries would compensation calculated would police way cash spent labour backing tories\",\n",
       " \"alaa drank last cup tea prison starting today 's zero calorie strike days starts cease consuming water well alaa bluffing 's fueled hope reunited us rage years stolen life \",\n",
       " 'great first day world leaders summit part continued leadership announced triple funding adaptation today launched forests climate leaders partnership',\n",
       " 'soil organic carbon treasure beneath feet potential sequester greenhouse gases help mitigate adapt learn relationship soils carbon',\n",
       " \"received letter pm pledging call release alaa highest levels '' end unacceptable treatment alaa drunk last glass water hrs ago let 's hope letter translates action\",\n",
       " 'every moment allow climate change ravage planet see human sufferingbecause act today risk leaving ever desperate inheritance children rishi sunak butrishi sunak may ',\n",
       " 'happy meet team eu negotiators working hard next weeks make headway calling partners turn ambition action bring world line paris goal thank dedication wish every success ',\n",
       " 'believe uk leading role play world tackles climate change role dragged kicking screaming taking action ',\n",
       " 'today opening ceremony sharm el sheikh climate implementation summit world leaders envoys delegates members civil society came together unified front mobilize prioritize global climate agenda ',\n",
       " 'president kagame also commonwealth chair in office also met commonwealth sg ahead secretary general briefed president progress made goals set commonwealth countries chogm hosted kigali earlier year ',\n",
       " \"message delegates attending sharm el sheikh best snorkelling house reef park regency hotel na'ama bay 're welcome \",\n",
       " 'important two weeks ahead egypt must implement historic push future planet depends',\n",
       " 'begins annual taxpayer funded jamboree world leaders fly private jets halfway around worldlike modern day king canutes shout stop forces controllike kings make poor poorer return lives luxury',\n",
       " ' november sharm el sheikh implementation summit provide platform highest level view creating much needed political momentum unity around difficult moment globe ',\n",
       " 'critical work together set achieve targets limit global warming c looking forward increasing climate ambition partnering innovative solutions climate crisis prosperous future ',\n",
       " \"new analysiswho responsible bn cilmate finance target missed us bn short fair share '' based historical emissions new analysis findsuk australia canada also bns short \",\n",
       " \" days hunger strike alaa abdel fattah die midst crime '' sharing facebook post torture make mockery climate talks power stop intervene\",\n",
       " 'live president egypt urges world move concrete actions effective implementation climate also launches appeal end war russia ukraine ',\n",
       " ' first minister met pakistans minister climate change they discussed devastating recent floods pakistan action loss damage ',\n",
       " 'brothers life danger need proof still alive noon every day enough confirm still alive speak sisi ',\n",
       " 'president kagame addressed terra carta action forum breakfast organized ahead launched king charles iii terra carta sets practical action help private sector accelerate progress towards sustainable future ',\n",
       " 'reminder climate emergency ',\n",
       " ' time implementation procrastination lets get poor vulnerable countries financing mitigation adaptation loss damage lets make trade integral part ndcs w presidents pm',\n",
       " 'must deliver concrete action loss damage caused climate crisis this matter trust developed developing countries for many countries question survival ',\n",
       " 'buses fight climate change h t',\n",
       " ' days go world comes together pursuit one common goal turning ambition urgent concrete effective climate action ',\n",
       " 'international drought resilience alliance launched aims help countries cities communities better prepare respond alliance drive regional actions initiatives innovation technology',\n",
       " 'moment world leaders regain momentum climate change move negotiation action together ',\n",
       " \"outrageously worlds largest plastic polluter coca cola supporting sponsor '' big companies helping destroy climate crash ecosystems paying greenwash image cop read \",\n",
       " \" adaptation met issue finance fulfilled continue lag behind room except move forward obtain objectives '' president sameh shoukry cop press conference \",\n",
       " 'people scotland struggling eat heat homes sturgeons giving away million cash reparations make look good utterly outrageous ',\n",
       " 'great see another un climate summit time sharm el sheikh egypt looking forward seeing scotland continue push climate action globally ',\n",
       " 'selling tea reach never easy journey ',\n",
       " 'ahead first minister reiterated dedication ensuring cop one action implementation open honest debate loss damage met new executive secretary',\n",
       " 'developing countries fertile precipice largest economic transformation since industrial revolution governments need protect communities affected ensure sustainable development',\n",
       " \"expectations run high new jetp 's energy transition partnerships world leaders gather egypt save date join discussion bishop geoff davies hosted\",\n",
       " 'air breathe food eat water drink environment live climate change destruction natural habitats impact health means protecting nature',\n",
       " 'official emoji live make sure use join conversation come together climate implementation action',\n",
       " 'climate hoax even less momentum esg right nobody cares nobody believes ruling class house cards collapsing ',\n",
       " \"'m way brother british citizen begins water strike may last days family needs proof life noon every day 'm relieved 're working confirm alaa still alive day \",\n",
       " 'thought said broke rishi getting money pledging ',\n",
       " \"let 's fight together let 's win \",\n",
       " 'days away sneak peek conference center world leaders delegations experts civil society youth across globe meet mobilize global ',\n",
       " 'every fraction degree global warming matters delay option ',\n",
       " 'first ever food systems pavilion represents enormous opportunity ensure health planets soil considered policymakers discussions say soil experts',\n",
       " 'man rare courage hope vision dying jail meets nearbyhow save british citizen egyptian gem neither egypt afford lose article today',\n",
       " 'president forefront improving climate data transparency made france global leader climate risk disclosure great see today partner work continues ',\n",
       " 'king charles hosted reception buckingham palace today ahead group included fashion designer stella mccartney',\n",
       " 'honour meet inspiration one key voice climate justice global south sir prof today want climate justice act ',\n",
       " 'takes place frontlines converging climate food energy health debt crises africa needs deliver five key areas drive action cut emissions crisis support framework fulfill glasgow promises global stocktake',\n",
       " 'pleased sharm el sheikh egypt first engagement h e president current chair in office discussed importance cop commonwealth countries explored strategies enhance climate finance access ',\n",
       " \" destruction amazon accelerating almost point return '' lungs world destroyed eyes there planet b time waste \",\n",
       " 'us climate envoy john kerry calls dramatic carbon cuts climate summit below completely unrelated photo nice private jet',\n",
       " ' day go kick tomorrow gmt stay tuned updates ',\n",
       " 'shameful forced attending britain leader fixing climate crisis reluctant follower ',\n",
       " 'first time ever un climate negotiations finance made onto agenda historic moment small island nations raising issue years happened concerted push developing countries',\n",
       " 'care fixing need change course pretending proper technological answer currently exists implemented lack willpower reckless misleading my essay',\n",
       " \" longer wait cost '' agreed \",\n",
       " \"prime minister mohammad shahbaz sharif arrived sharm el sheikh egypt participate sharm el sheikh climate implementation summit ''\",\n",
       " 'civilisation finished looks like comes next thats come inmy new short film ashes written directed animation director martyn pick please watch rt ',\n",
       " 'world tour continues holiday local councillor pal along ride expense ',\n",
       " 'sanaa way attend raise case many think risky move absolutely right choice water strike limited days save him the risk losing forever outweighs',\n",
       " ' million children live south asia epicenter climate crisis witnessed record amount climate induced devastation as world leaders meet needs conference commitments ',\n",
       " 'rishi u turning bad sign leadership comewe leader whose anchor drifts political winds',\n",
       " 'global warming seen opportunity oil drilling according us cables published julian assange prosecuted including part plans carve arctic oil gold uranium extraction link ',\n",
       " \"live pavilion join cop business delegation critical climate focused discussions action let 's pioneer possible full program \",\n",
       " ' days go world meets sharm el sheikh present future planet stake transformative action delayed ',\n",
       " 'head must put people justice center addressing climate crisis must take care people must take care vulnerable communities must take care planet generations still come ',\n",
       " 'alaa abd el fattah democracy activist british citizen whos prison egypt years faced persecution psychological torture authorities egypt days away stood sister say govt must urgently act',\n",
       " 'remember back wrote pink ink king charles non attendance reply ',\n",
       " 'arrived safely ahead climate conference were proud lead nations climate change negotiations address one pressing existential threats mankind climate crisis ',\n",
       " \"barely started recommendations already adopted would seriously undermine integrity last night supervisory body finalised recommendations regarding removals '' things know outcome \",\n",
       " 'president abdel fattah el sisi un chief antonio guterres receive ethiopian prime minister abiy ahmed participates cop meetings sharm el sheikh ',\n",
       " \" exit pakistan '' ab bolo patriots road \",\n",
       " 'experts britain siberian climate ',\n",
       " 'gravely urgent alaa abd el fattah british citizen months labourhave pressed government secure release rishi sunak must use visit egypt bring alaa home ',\n",
       " 'power image connecting dutch cultural heritage climate change sealevel rise urgency act limiting global warming climate adaptation image via',\n",
       " 'morning formally opened brought cop presidency closei fully recognise scale challenge ahead remain hopeful know need time deliverread speech',\n",
       " 'world leaders unite next days sobering reminder south asia one million children living region affected least one climate environmental hazard shock stress ',\n",
       " \"'good news ' according 'loss damage ' claim proposal 'd suggest uk citizen hit c bn cuts public spending \",\n",
       " 'live world leaders gathering sharm el sheikhfor day world leaders summit ',\n",
       " 'officially starts today work towards achieve unlock progress keep conversations going make sure world leaders know demand climate action empty promises ',\n",
       " ' wraps successfully ahead year egyptian cop presidency delivers first ever youth led young future generations day co created hosting youth pavilion owned entirely young people ',\n",
       " 'first minister chaired meeting environmental council yesterday bringing together international experts discuss issues affecting climate environment ahead council ',\n",
       " 'fossil fuels taken planet less billion people billion co emissions slight warming made earth greener ever greens hate tells need know ',\n",
       " \"attended spain 'm attending egypt nothing change two changing are insects gone wildlife gone forest gonebreathing clean air become luxury \",\n",
       " \"nicola sturgeon 's selfies already begun self regarding shallow politician scotland first minister \",\n",
       " 'forests available cost effective solution is countries need mobilize funds gigaton reduction emissions protecting restoring info ',\n",
       " 'good boris johnson interrupt holiday go carry holiday',\n",
       " 'officially started agenda good start germanys toughest delegate picked job fighting hardest red lines accepting compromise safe future ',\n",
       " 'looks like nicola sturgeon taken strategic adviser liz lloyd well the taxpayer bill carbon footprint lot bigger thought ',\n",
       " 'taking place gives us high hopes african cop deliver significant progress implementable climate actions issues priority developing countries ',\n",
       " 'dates saudis flagship climate eventsheld sidelines announced middle east green initiative summit nov saudi green initiative forum nov ',\n",
       " \"busiest person nicola sturgeon 's photographer \",\n",
       " 'anyone heard queen nicola sturgeon getting ',\n",
       " 'delighted arrival baby several us nurtured trying times past three years honor work inspiring group academics activists artists poets aabout pursuits india beyond ',\n",
       " 'made coral films shown sharm el sheikh yes ecosystems brink destruction also get save happens counts waiting ',\n",
       " 'pity actual environment secretary recently dismissed gathering people egypt doubt shell drinking permanent cup trying spin way one better ',\n",
       " 'past years track th warmest extreme heatwaves drought devastating flooding affected millions cost billions year disastrous glacier melt negotiations must consider',\n",
       " 'delighted sharm el sheikh thank egypt hosting call cop lot work lets get going ',\n",
       " \"already round matter ends free horror sisi 's prisons us suffer great loss family world including egyptian british govs even n't see \",\n",
       " ' when years old saw landslides killing many people due harsh weather conditions images disturbed allow rest something done changing climate suffered ',\n",
       " \"rishi sunak delivering bn pledges nairobi kenya pakistan somalia goes 'officially ' become world 's piggy bank sunak 's ignoring voter base \",\n",
       " 'thrilled egypt following fossil fuels protests big pledges deforestation methane adaptation etccome say hello media zone',\n",
       " ' days go world leaders negotiators experts members civil society youth across globe convene sharm el sheikh goal mobilizing global climate agenda ',\n",
       " ' november november sharm el sheikh egypt sponsored coca cola worlds top plastic polluter produce billion throwaway plastic bottles year currently private jet hub global leaders showcase hypocrisy ',\n",
       " \"seeing week thinking earth '' n't worry 've got covered 's quick breakdown everything need know \",\n",
       " 'im invited speak prestigious iim calcutta th november tedx event unfortunately cant make due egypt and also tedxabesec event abes engineering college ghaziabad th november im deeply regretted ',\n",
       " \"'ll hear egypts new fossil fuel projects pollution scandals mass evictions arrests surveillance locals climate summit rampant media censorship continued human rights crisis regimes jails\",\n",
       " 'foreign minister pakistan visited pakistan pavilion along pm secretary general says world must join hands climate justice ',\n",
       " \"urged govt back global fossil fuels registry useless reply minister fails acknowledge govts already plan produce double fossil fuels consistent cnew oil gas wo n't solve\",\n",
       " \"pictures china parts yangtze worlds third largest river dried historic drought summer 're time wait \",\n",
       " 'coming two weeks tweeting un talks hope tweets tell positive results scaled ambition fear frustration worries follow tweets want know goes',\n",
       " 'approaches remember single important image watch try make electric cars ',\n",
       " \"switzerland 's glaciers lost half total volume less century we 're time waste \",\n",
       " 'prime minister also endorsed secretary generals call climate justice climate solidarity ',\n",
       " 'begins hourfollow opening ceremony live',\n",
       " 'kids courting arrest kids future respect love gratitude',\n",
       " 'lets hope marks end influence climate diplomacy idiotic person ',\n",
       " 'unconscionable uk still cop president breaks promise help climate vulnerable countries ',\n",
       " \"go hotel debacle last night 've made conference centre i 'm two weeks share tips including horror hotel stories come say hi dms open \",\n",
       " 'intriguing retweet ',\n",
       " 'first minister today call world leaders deliver commitments made glasgow climate pact attends first full day climate conference egypt ',\n",
       " 'finally arrived things energy transition fossil fuel phase next days',\n",
       " 'know pollinators help minimize impact climate change food security diversity ',\n",
       " 'youre going bring down the disruption end government ends new oil gas support us',\n",
       " 'looking forward important discussion convened president kenya know done right ecosystem restoration works reduction critical tool accelerate implementation ',\n",
       " 'way annual un climate negotiations egypt remind global governments world isnt energy crisis fossil fuel crisis ',\n",
       " 'safely reached cairo egypt heading shortly sharm el sheikh city we call governments establish fund developing countries implement climate financing pledges ',\n",
       " \"sanaa made safely sharm elsheikh attend event tomorrow wt german climate convoy let 's hope makes safely prison well soonall ask end chapter family together safe\",\n",
       " 'productive call egyptian foreign minister sameh shoukry underscored appreciation egypts climate leadership egypt prepares host commitment deepening u s egypt strategic partnership ',\n",
       " 'president arrives egypt hes proposing south american summit defense recovery amazon ',\n",
       " 'beyond scotland lead example world leading climate targets global leader renewable energy first nation world launch climate justice fund watch explain scotland playing part world stage ',\n",
       " 'kerem going egypt talk climate change environment ',\n",
       " 'need global climate leadership removing climate ministers cabinet delaying cumbria coal mine decision fossil fuel subsidies despite screeching u turn sunak climate leaderme',\n",
       " 'hes going then hes either going believes save planet hes going boris ',\n",
       " 'hey rashee sanook couple thoughts cop car pool public transport zoom facetime streamyard less planes less attendees less assistants assistants ',\n",
       " \"moved us dangerously close irreversible tipping points 's time reverse course there planet b time waste \",\n",
       " 'errrrso many smart humans going wonder solutions coming',\n",
       " 'highway climate hell foot still accelerator at climate conference egypt calls urgent ',\n",
       " 'young people everywhere demanding action decision makers tackle climate emergency ahead youth climate advocates tell us means them their voices go unheard ',\n",
       " \"planning schedule wanted let know posting events 'm participating live streamed watch anything know might let know \",\n",
       " 'climate conference starts today im participating youth delegate it crucial cop delivers keeping target alive agrees phasing fossil fuels requires scale green financing ensure',\n",
       " 'president meets emmanuel macron egypt ',\n",
       " 'almost men summit ',\n",
       " 'releasing report estimate countries rely unrealistic amount land based removal meet climate pledges bn ha land total equal global cropland full report tomorrow summary gt ',\n",
       " \"'s officialloss damage agenda matters relating funding arrangements addressing loss damage '' \",\n",
       " \"tomorrow address opening session resilience frontiers un climate summit n't miss speech speech carry silent tears millions innocent children world victims climate crisis \",\n",
       " 'climate progress separated political rights protect habitable planet unless free fight greenwashing police state fascism march around world must forcefully resisted ',\n",
       " 'defining crisis time saw world distracted making progress refocus regain momentum my message talking media sharm el sheikh today ',\n",
       " 'simple passengers obligation deliver receive',\n",
       " \"'wikileaks cables reveal us manipulated climate accord ' \",\n",
       " 'dear world leaders invite visit health pavilion humanity moment swift protect lungs brains hearts overall health well being ',\n",
       " 'king championed action sustainable future years today hes hosting reception buckingham palace ahead egypt guests expected discuss ways public private partnership help tackle climate change pa',\n",
       " ' officially began today ceremonial opening taking place plenary morning already seen significant developments summary day one ',\n",
       " \"'s menu ignoring fact goes hand hand mass trillions gallons water usage could always opt sea bass help contribute towards ocean dead zones \",\n",
       " 'loss damage finally formally adopted plenary agenda item never allowed formally tabled kudos teams talks ensure common ground crucial first step',\n",
       " 'impressions day photos conference flickr account',\n",
       " \"every tinpot dictatorship whose citizens happily burn car tyres keep warm winter demanding billions western taxpayers climate reparations '' which receive spend diamond encrusted learjets you 're farmed \",\n",
       " 'anti tories utterly lost marbles billion mini budget designed help brits get similarly annoyed billion international climate finance weve pledged rest world utter out of touch madness',\n",
       " 'sunak giving bn pakistan somalia whilst getting george osborne jeremy hunt implement huge austerity britain dont think need tell timeline exactly think bullsh isnt funny anymore ',\n",
       " 'pleased meet friend cooperation key face difficult challenges time standing common values protecting citizens energy crisis ',\n",
       " 'nuclear energy place table world needs ',\n",
       " 'boris johnson wanging climate change us plebs ill take opinions large pinch salt flew back london cop climate summit glasgow private jet go dinner private members club ',\n",
       " 'begins sharm el sheikh mary robinson explains world time empty words hollow pledges calls urgent ',\n",
       " 'need go beyond deal elephant room senegal behalf least developed countries group ',\n",
       " ' undrr calls member states support vision take ',\n",
       " \"monarch butterflies among north america 's iconic species populations already declined gt if nature goes taking us \",\n",
       " \"new study estimates carbon footprint investments world 's richest billionaires spoiler alert 's big big \",\n",
       " 'egypt hosts lets forget estimated political prisoners held join calls release alaa abd el fattah hunger strike right also want shine light prison uk thread ',\n",
       " 'good news belgium following denmark scotland wallonia allocating funds climate induced',\n",
       " 'un climate change conference opened today key aim ensuring full implementation paris agreement central focus areas transformational shift implementation progress critical workstreams delivery transparency accountability',\n",
       " ' countries agreed improve emissions cutting pledges time two dozen countries far done polluting talking shop many arrive private jets talk cutting co emissions hypocrisy ',\n",
       " \"join tomorrow 's rwanda twitter space accelerating green investment rwanda jean claude iliboneye moderated angelique karekezi set reminder \",\n",
       " 'friendship italy jordan long standing roots cherish wish strengthen honored meet majesty king abdullah ii royal highness crown prince al hussein sidelines',\n",
       " 'needs recognize loss damage experienced pakistan needs define clear roadmap deal said today joint press encounter',\n",
       " \"takes brass neck tory politician attack fm going conference climate change world 's top priority chaotic said said maybe said yes \",\n",
       " 'world leaders meeting egypt talk climate change parking jets burn jetfuel contribute climate crisis canadian liberals burnt million litres jetfuel last years say hypocrites',\n",
       " 'arrived sharm el sheikh conference centre afternoon well make address th conference parties climate change remains committed promoting encouraging economic activities climate smart ',\n",
       " 'alert stories bloomberg green aka outside paywall nov service readers read coverage content free next weeks ',\n",
       " 'hi made thank accreditationand supporting trip media engagement climateandmigration meaningful african youth engagement contact nrosekobusinge',\n",
       " \"'m old enough remember boris johnson 's contribution cop \",\n",
       " 'arrived sharm el sheikh important days ahead many countries contribute least climate change bearing brunt impact leaders responsibility drive climate delivery sustainable future planet people alike ',\n",
       " 'today launching climate change summary ',\n",
       " 'climate change wont wait must act today countries around world meet increase efforts global climate action leading way aims make eu climate neutral ',\n",
       " 'voices women girls must central climate negotiations must listen young people seen felt impacts climate change simon stiell executive secretary opening remarks',\n",
       " 'wonder someone attending tell egypts sisi called world end war russia invading ukraine russia ukraine crisis ',\n",
       " 'tomorrow begin campaign speaking canada news uk urge world leaders take concrete climate action save future last hope us decide life death ',\n",
       " \"'re climate emergency 're staring catastrophe face sunak shirks real climate leaders keeping fossil fuels ground securing transition liveable future interview\",\n",
       " \"sisis mouthpiece ahmed mousa says alaa abdelfattah political prisoner claims alaa kidnapped police officer took weapon responding international campaigns releasing alaa mousa says egypt n't accept international calls \",\n",
       " 'kia ora friends youre heading today please show solidarity disabled chronically ill immunocompromised colleagues like wear highly rated mask throughout day keep us safe counting ',\n",
       " 'panel mobilising finance climate health titled leaders lead moderated w h e prime minister barbados first minister scotland egyptian minister economic development',\n",
       " \"ca n't believe 'm attending egypt this first ever global '' assignment 'm thoroughly excited path science journalism taking hoping learn veterans tell africa 's stories hope face \",\n",
       " \" companies make bn dollars profits last three months expect contribute least cents every dollar profit fund people expect '' world leaders summit \",\n",
       " 'prime minister day leader devolved administration council leader tow days strange true',\n",
       " \"year ago world leaders agreed phase '' coal since consumption set records \",\n",
       " 'nepal one climate leaders south asia joined global methane pledge gmp climate clean air coalition ccac hope countries follow lead ',\n",
       " 'children youth pavilion please visit explore first kind initiative heard voices children youth un climate summit ',\n",
       " \"world 's lungs breathed sigh relief lula rt breathed sigh relief\",\n",
       " 'three points apocalyptics predicted snows kilimanjaro would disappear nope predicted glacier national park glaciers would gone nope nope alarmist prediction ever come true ',\n",
       " \"start kicked annual festival takes people n't really think climate change problem eleventy hundredth time thread arguments reckless point genuinely dangerous \",\n",
       " 'started exciting meet amazing learn incredible initiatives pavilion',\n",
       " 'starts tomorrow govt must remember could cost bn year yet rich countries utterly failing pull weight must provide finance bring climate justiceme',\n",
       " 'climate policy factbook w reveals g member countries increased support coal oil gas fossil fuel power ahead countries must held accountable commitment paris agreement ',\n",
       " \"time last year one scientists arrested peaceful protest 's clip wet explaining reason took part action year later governments still failing\",\n",
       " \"new kerry says amlo soon make announcement presumably raising mexico 's climate goals spent great dealworking countriesto get raise ndcs major announcement president lpez obrador agreed\",\n",
       " \"made 'm keeping particularly close eye climate finance give shout want chat grab coffee come find gang office upper floor media centre\",\n",
       " 'climate nature two sides coin solve one without other at alongside continuing commitments deep cuts emissions countries put nature agendas together tackle reverse nature loss ',\n",
       " 'melting pearl mountains ',\n",
       " 'seems important wurrld leader missing great photo opportunity ',\n",
       " \"two points 's warming years despite total emissions warmest 'modern times ' warm earlier like years ago coal plants suvs cheeseburgers climate hoax \",\n",
       " 'starting sunday hosting global climate summit since ',\n",
       " ' analysis finds stopping expansion offshore drilling help prevent worst impacts climate crisis ',\n",
       " 'finance vital hurricanes irma maria dominica cost countrys gdp crops destroyed grant shapps says uk agrees theres discussion had but need words finance needs table ',\n",
       " 'colleague working team trusted journalists lawyers scholars activists ground egypt collecting stories testimonies outside green bubble ',\n",
       " 'countries serious climate actionthe would ban new oil gas coal drillingban fossil fuel subsidiesban deforestationban draining wetlandsban private jetsban new airports roads expansionsration air travel',\n",
       " \"think climate emergency much emergency everybody seems think claire fox scientist could stopped think '' \",\n",
       " \"charles grade a hypocrite environment represents worst polluters 's expert 's good advocate 's government official negotiate nations business going\",\n",
       " \"rishi sunak really need go world leader word frankly n't hear \",\n",
       " 'king hosted reception buckingham palace discuss tackling climate change global leaders prepare summit sharm el sheikh egypt ',\n",
       " ' building progress made glasgow tackle climate crisis every country aligns commitments goal limiting warming c implement plans ',\n",
       " \"prime minister mohammad shahbaz sharif arrived sharm el sheikh egypt participate sharm el sheikh climate implementation summit ''\",\n",
       " ' together youth climate advocate germany climate crisis urgency taking ',\n",
       " 'intervention causes affects rights millions people crisis requires every voice every effort every solution especially needs frontlines ',\n",
       " 'planet telling us loudly clearly reached limit climate action must top global priority ',\n",
       " 'remotely convinced sunak urging world leaders summon collective cap global rise temperatures didnt want go summit plans use half already reduced foreign aid budget home words vs actions times ',\n",
       " 'many places earth every breath person takes polluted rt agree put end fossil fuel addiction ',\n",
       " 'thinking starts stay strong dear one may never defeated ',\n",
       " 'kind reminder world leaders conference promises this must conference commitments our children need climate justice ',\n",
       " 'decarbonisation means phase out fossil fuels path actually succeed protecting climate communities opening press conference sharm el sheikh talks must strengthen references fossil fuels ',\n",
       " 'young people moved front global agenda yesterday thanked youth delegates gathered sharm el sheikh hard work asked support aswe start pushing climate promises page action ',\n",
       " \"on site ready un climate conference sharm el sheikh egypt here 's everything need know\",\n",
       " 'proud security officers flew vienna sharm el sheikh contribute protection k in person particpants standing guard long hours ensure safety a big thank ',\n",
       " ' longer horizon longer doorstep homes the world must urgent accelerated action stay tuned regular updates unep ',\n",
       " 'sets milestone mobilizing funds pay equivalent one gigaton high quality emissions reductions yearly thereafter join us nov learn live link ',\n",
       " 'despite goals set paris agreement support fossil fuels g nations reached highest level since ahead climate policy factbook outlines critical steps needed meet climate goals ',\n",
       " 'prime minister muhammad shehbaz sharif meets united nations secretary general h e antonio guterres sidelines cop ',\n",
       " 'delighted attending completely agree comment long term prosperity without action climate change',\n",
       " \"prime minister shehbaz sharif left egypt participate sharm el sheikh climate implementation summit ''\",\n",
       " 'un climate conference kick sharm el sheikh egypt every government every business every investor every institution everybody must commit much faster bolder protect planet future ',\n",
       " 'rwanda climate change leader dedicated delivering ambitious climate commitments today met minster foreign affairs discuss helping gain access climate finance strengthen climate commitments ',\n",
       " 'sunak asked johnsons presence said showed uks great commitment present past pm normal union equals would also included mention scotlands fm bring even ',\n",
       " \" overshadowed egyptian government 's imprisonment friend comrade alaa abd el fattah stopped drinking water part hunger strike son khaled dodo went sit in alaa aunt \",\n",
       " 'tomorrow eyes world sharm el sheikh kicks next two weeks world leaders negotiators come together ensure promises made glasgow cop kept built upon ',\n",
       " 'decisions next two weeks define future humanity unprecedented action able change course crisis ',\n",
       " 'shattering news alaa either free next days die prison world watches family friends done everything possible work release hero jail sharing facebook post torture ',\n",
       " 'beautiful amazing brother choice made moves forward knowing already battle irrespective written last page',\n",
       " 'public private partnerships core effective response climate emergency official negotiations cop open door new business models economic incentives scientific innovations president kagame terra carta action forum',\n",
       " \"ca n't researchers arsed brief ca n't arsed find question another wee pop elected head scotland 's government defined formal role \",\n",
       " 'insouciant arrogance telling joe biden emmanuel macron busy pressing domestic issues ignores much needs get planet killing venal libertarian bastards office ',\n",
       " 'commitment sustainability core purpose values want partner feel learn addressing urgent climate challenges delivering ambitions and ambitious',\n",
       " 'finance agenda adopted without rich countries bullying poorer nations agree language protect historical polluters compensation liability nevertheless new chapter fight begins ',\n",
       " ' pm cairo time mama laila soueif still waiting since morning infront prison letter still sign anything could tell us fine hospitalised let alone alive wait pray',\n",
       " \"finland important implementation paris agreement progresses decisions based recent scientific research pm delivered finland 's statement full text statement \",\n",
       " 'boris johnson th holiday year finished already ',\n",
       " \"rishi sunak attend cares environment tories bad things everyone notices 're forced u turn \",\n",
       " 'hold hat theyve started climate change brainwashing new pandemic every day every tv station every radio station expect arguments friends family gon na tremendous bore',\n",
       " 'stay course abroad we invest energies future work partners climate adaptation help restore forests we provide largest contribution climate finance billion ',\n",
       " 'difference spent whole life trying save amazonian forest fight climate change whereas cant even bothered show face',\n",
       " \"'s estimates billion people cities risk extreme heat food insecurity sea level rise poverty due impacts 's imperative countries work together drive\",\n",
       " 'guten morgen aus must everything ensure liveable future beautiful planet generations come ',\n",
       " 'good hear attending need strong advocate show leadership vital role nature play dealing climate crisis pm also attend global nature summit montreal next month ',\n",
       " 'today going weekend visited sanaa sister alaa abd el fattah political prisoner hunger strike days egypt cop begins escalate water strike climate movement must stand solidarity',\n",
       " 'voters stupidest mugs planet played gang gravy bus troughers quote',\n",
       " 'nations come together cooperate theres always cause hope declares sunak unironically its many us hate brexit self harming isolationism ',\n",
       " ' one thing certain give sure lose lets fight together lets win egypt stresses human activity cause climate crisis also solution ',\n",
       " \" yet defeated '' sharing foreword alaa abd el fattah 's brilliant book wrote prison turns gave rallying cry \",\n",
       " 'planet trouble looks like science undeniable time waste protect planet ',\n",
       " 'friends cop advised written ministers today underlining importance attendance honouring commitments building solidarity trust drive recovery prosperity security inclusion',\n",
       " 'fact countries least responsible climate change ones warming fastest children paying highest price developed countries must urgently deliver climate commitments expand funding climate adaptation ',\n",
       " 'sad story need take action towards mitigation effects climate change',\n",
       " 'good morning beautiful sunny whole world ready next weeks well finding solutions putting plans action future ',\n",
       " 'world leaders talk warming climate talk affects mental health cope thursday th pm cet hosted',\n",
       " 'sunak presumably told johnson staging photo opportunity outside ',\n",
       " 'climate justice nothing without racial social economic justice ahead govt must ensure release alaa abd el fattah british citizen father brother writer activist yrs unlawful imprisonment egyptme',\n",
       " 'warning viable path left c climate target uganda risk investing loan nearly billion eacop climate bomb our economic devt clean possible maximumly efficient cut ghg emissions ',\n",
       " 'great work nail ex junkie psychopath dangerous deranged people need locking',\n",
       " 'prime minister shehbaz sharif met un secretary general sidelines cop summit held sharm el sheikh today ',\n",
       " 'welcoming special way',\n",
       " 'ever rising greenhouse gas emissions supercharging extreme weather events across planet at today un chief unveiled plan provide everyone earth early warnings extreme dangerous weather ',\n",
       " 'gets underway starting pakistans first info series covering environment economics public policy around world works watch episodes',\n",
       " 'starts today egypt biden attending despite tough mid term attending xi putin modi ',\n",
       " \"wonder many times 're going hear lie scotland produces almost electricity renewables fortnight leadership would taking opportunity spotlight correct record \",\n",
       " 'fm joined prime minister barbados dr hala el said panel discussion they focused role public private economic development mitigation adaptation ',\n",
       " 'kicks egypt hearing lots calls action weve calling action nearly years delegates urge go sea put heads water see whats stake ',\n",
       " \"'s pleasure attend met cop we ready amplify voices young people n't make sharm el sheikh 's time put things action \",\n",
       " \"african countries need speak one voice make collective demands 's outline africa 's priorities sharm el sheikh \",\n",
       " 'show us weak pmtail wagging dog',\n",
       " 'new reports synthesis report report greenhouse gas bulletin world energy outlook navigating energy transitions',\n",
       " 'might one morally bankrupt events recent historyrich elites war criminals fly private tourist enclave military dictatorship tell countries reduce consumptionthe good news see right',\n",
       " 'uae president hh sheikh mohamed bin zayed meets world leaders including israeli president h e british pm',\n",
       " 'live watch press conference un climate change executive secretary cop president sameh shoukry ',\n",
       " 'wondering cost send contingent lets talk accountability property taxes going next years ',\n",
       " 'sharm el sheikh implementation summit scis kick today pm gmt tune livestream ',\n",
       " \"implementation focal point years roundtable discussion food security '' brought together climate experts break ways must actively carry on ground action relation building resilient agriculture systems \",\n",
       " \"historic floods pakistan killed people rain usual pakistan produces less global carbon emissions one countries vulnerable climate crisis many 'historics ' \",\n",
       " 'photos president egypt global climate change conference met kenyan counterpart william ruto sunday ',\n",
       " 'distraction egypt frontlines climate crisis heatwaves sea level rise without focus justice future one technical fixes expense livable environment egypt worlds majority ',\n",
       " 'today pleasure meeting incredible team volunteers their operational support critical ensuring successful outcome without hard work cop would possible ',\n",
       " 'africa change longer threat reality think effect climate change addressed well ',\n",
       " 'coz got fight green war follow passion add voices contribute solving global community challenges the th united nations climate change conference starts nov nov sharm el sheikh egypt ',\n",
       " 'climate conference kicks end week many journalists touch data facts reporting here key resources hopefully help understand global emissions energy climate',\n",
       " 'eastern european activists confronted asked commissioner worrying new gas investments eu making urged fight renewable expansion instead making fossil deals fight fire fire ',\n",
       " 'expand access clean affordable energy cut carbon emissions time ',\n",
       " 'new generation sadc leadership ',\n",
       " 'agroecology set principles practices enhances resilience sustainability food farming systems preserving social integrity ',\n",
       " 'amazing see scotland represented world stage looking forward seeing scotland globally continue push climate action ',\n",
       " 'going start selling maldives soon maldives water years ago according numpties sharm el sheikh',\n",
       " 'approach served rwanda well citizens bordering national parks benefit facilities services financed sustainable tourism revenues president kagame one planet event hosted president france sidelines',\n",
       " 'glad meet first woman serve prime minister italy today sharm el sheikh first day ',\n",
       " 'climate change already causing migration soon cause vastly weirdly ironic sunaks real purpose going bend macrons ear channel crossings ',\n",
       " 'concentrate minds attendees like doubtful this need billion climate activists ',\n",
       " 'invites attendees visit sgi gallery immersive exhibition connects action innovation investment if cop stop see ksas green transition unfolding eyes ',\n",
       " ' new brief based approach addressing look like key demands outcomes intersection get english french spanish arabic ',\n",
       " ' cairo marks hrs without water months restricted calories strike week full hunger strike day water begins',\n",
       " \"told 's enough rishi sunak attend global climate talks it 's time real action needs scrap new oil gas fields need massive push renewables nine times cheaper \",\n",
       " 'five teenagers arrested whitehaven coals newcastle office demanding cease disist coal expansions young people fight protect future copping ',\n",
       " \"adaptation heart 's reading adaptation gap report transition paris living planet report th assessment report accounts climate crisis state trends adaptation \",\n",
       " \" world leaders committed halting reversing forest loss land degradation a new forests climate leaders ' partnership launched today designed deliver essential goal watch video find\",\n",
       " \"media serious climate change speak climate scientists researchers focus climate activists climate denialists far right using climate activists ' statements undermine threats climate change \",\n",
       " ' first edition time deliver human rights degrees safeshameful ambition gapget copy also spanish ',\n",
       " 'significant milestone at president kagame launched rwandas new green investment facility facility provide financial services quality green investments foster private sector led green growth ',\n",
       " 'way annual un climate negotiations egypt ',\n",
       " ' proud hosting regenerative finance event year tamuwa park regency resort sharm el sheikh ',\n",
       " \"let see 've got right us uk potentially austerity measures placed us autumn budget yet sunak happy bung ms countries wtaf 's 'money ' coming 's priority \",\n",
       " 'checked pakistan pavilion looking forward panel discussions especially focusing',\n",
       " 'kicks today need renewed ambitionaccelerationsolidaritycommitments climate justice',\n",
       " \"fight war fight climate change ca n't fight war climate change time \",\n",
       " 'ultimate feelgood token beach lowered buy tax recognition rep currently egypt there isnt team earth much planet info ',\n",
       " ' radio panel talking the labour mp said important serious reparations ie agreed said pleased set loss damage fund rich countries blocked',\n",
       " 'hasnt formally opened yet plenty hard work among parties agree agenda start conference right footalways joy work team especially brilliant deputy alison campbell ',\n",
       " 'pakistan pavilion starts bang today one unsg visited speak climate impacts pm fm also visited ',\n",
       " 'yep isnt mad nicola sturgeon susan aitken swan homeless people kids lining freezing street hot meal could eradicate outrage ',\n",
       " 'head drought kenya means million kenyans food insecure state emergency children affected million livestock dead pregnant lactating mothers need aid elephants deadwe need ',\n",
       " \"'re still way track cbut let 's lose sight massive progress 've made since paris pre paris agreement heading c warmingnow 's cor c pledges met\",\n",
       " 'witnessing devastating right climate inaction led us here thanking people far signed letter world leaders demanding climate justice loss damage finance facility letter ',\n",
       " 'absolutely ragin asked couldnt zoom total rage face',\n",
       " \"pleased meet new uk prime minister today discussed deepening nations ' excellent relations economic climate ventures also talked security challenges chiefly iranian nuclear program \",\n",
       " ' call parties take urgent action bring greenhouse gas emissions comply paris agreement climate change wont wait single day us ',\n",
       " 'touchdown job well done welcoming tired travelers near far finally ready connect inspiring passionate voices committed ways looking forward seeing friends',\n",
       " 'planet crying ambitious climate action save future generations needs pave way speedy green transition adequate adaption plans turning mitigation targets actionwe running time avoiding climate catastrophe still within reach',\n",
       " 'starts today it historic opportunity put front center climate change discussions we must make count people planet ',\n",
       " 'yet oil industry brought humanity biggest delegation last year cop probably year maybe scientists biggest show cop eh ',\n",
       " 'global mean sea level rise rate doubled since rose nearly mm since jan new record high rise continue threatening millions coastal dwellers followers ',\n",
       " 'regimes critics able get many egyptians r vetted regime rampant surveillance speak extreme danger rights groups warn severe crackdown',\n",
       " \"n't even want go hypocrite \",\n",
       " \"laura kuenssberg opens asking afford tackle climate crisis '' either lazy journalism gb news lite dismissal way date midst climate crisis \",\n",
       " 'sunak going boris johnson',\n",
       " 'nicola sturgeon need person ',\n",
       " 'happy fighting we win ',\n",
       " \"'s dark prison locked services left nothing mama ragia family friend remain officers well although n't appeared hours still waiting letter worrying top everything else\",\n",
       " 'tune tomorrow november th gmt watch opening ceremony live live stream ',\n",
       " \"modest suggestion make sure british citizen pro democracy activist alaa abd el fattah sisi 's dungeon reunited family london arrive wo n't hear end \",\n",
       " \"globalist unelected pm squatting mandate n't 's spaffing millions money away cronies plebs '' look say f voted \",\n",
       " 'kicks hours participate drive conversation climate related worktake stock discussed cop advocate key recommendations aligned au eu partnership',\n",
       " 'nicola sturgeon devolved administrator her remit internal domestic matters seriously wtaf like sending joey essex nasas planetary mechanics convention ',\n",
       " \"alaa done wo n't go another year horrid nightmarehe wrote us starting tomorrow full hunger strike calorie intake whatsoeverstarting novemeber th go water strikeif n't resolve die\",\n",
       " 'happening environment forestry cabinet secretary hon soipan tuya arrives united nations framework convention climate change unfccc cop sharm el sheikh egypt the cs currently attending africa group negotiators preparatory meeting',\n",
       " 'arrived live sharm el sheikh tune keep latest on ground action part conversations ',\n",
       " 'look made blue zone despite governments best efforts thanks much helped',\n",
       " 'powerful piece must mean africa climate action renewables luxury indivisible building peace security stability prosperity ',\n",
       " 'must acknowledge harsh truth adapting growing number catastrophes causing enormous suffering around world deadly impacts longer swept rug sg ',\n",
       " \"gore pedals line get net zero temperatures stop rising within little years '' misleading dangerous narrative ignores locked in warming need thermal mitigation \",\n",
       " 'say scottish nationalists lack sense humour crack joke nippys expense like ill report police seriously lighten know got beat get',\n",
       " \"'ve started work sharm el sheikh 'll spend november best advocate practical scalable solutions green jobs youth transition climate finance elevate young eastern european voices tough times let 's catch \",\n",
       " 'face many challenges climate change biggest this implementation summit keep track promises we need everything keep degrees reach ',\n",
       " 'jolly boys outing world leaders pretend climate emergency fly private jets tell us must fly less people going wake ',\n",
       " 'heading along half plane ive since cop missed bali india cops due maternity leave kids grown emissions due working',\n",
       " 'much costto send reluctant sunak foots bill attendance perhaps could investigate kay ']"
      ]
     },
     "execution_count": 32,
     "metadata": {},
     "output_type": "execute_result"
    }
   ],
   "source": [
    "tweets = df.clean_text.to_list()\n",
    "tweets"
   ]
  },
  {
   "cell_type": "code",
   "execution_count": 33,
   "metadata": {},
   "outputs": [],
   "source": [
    "topic_model = BERTopic(language=\"english\", embedding_model=\"all-MiniLM-L6-v2\")\n",
    "topics, probs = topic_model.fit_transform(tweets)"
   ]
  },
  {
   "cell_type": "code",
   "execution_count": 34,
   "metadata": {},
   "outputs": [
    {
     "data": {
      "text/html": [
       "<div>\n",
       "<style scoped>\n",
       "    .dataframe tbody tr th:only-of-type {\n",
       "        vertical-align: middle;\n",
       "    }\n",
       "\n",
       "    .dataframe tbody tr th {\n",
       "        vertical-align: top;\n",
       "    }\n",
       "\n",
       "    .dataframe thead th {\n",
       "        text-align: right;\n",
       "    }\n",
       "</style>\n",
       "<table border=\"1\" class=\"dataframe\">\n",
       "  <thead>\n",
       "    <tr style=\"text-align: right;\">\n",
       "      <th></th>\n",
       "      <th>Topic</th>\n",
       "      <th>Count</th>\n",
       "      <th>Name</th>\n",
       "    </tr>\n",
       "  </thead>\n",
       "  <tbody>\n",
       "    <tr>\n",
       "      <th>0</th>\n",
       "      <td>-1</td>\n",
       "      <td>107</td>\n",
       "      <td>-1_climate_world_president_minister</td>\n",
       "    </tr>\n",
       "    <tr>\n",
       "      <th>1</th>\n",
       "      <td>0</td>\n",
       "      <td>237</td>\n",
       "      <td>0_climate_must_change_sunak</td>\n",
       "    </tr>\n",
       "    <tr>\n",
       "      <th>2</th>\n",
       "      <td>1</td>\n",
       "      <td>47</td>\n",
       "      <td>1_egypt_climate_crisis_global</td>\n",
       "    </tr>\n",
       "    <tr>\n",
       "      <th>3</th>\n",
       "      <td>2</td>\n",
       "      <td>45</td>\n",
       "      <td>2_sheikh_sharm_el_summit</td>\n",
       "    </tr>\n",
       "    <tr>\n",
       "      <th>4</th>\n",
       "      <td>3</td>\n",
       "      <td>28</td>\n",
       "      <td>3_alaa_strike_prison_water</td>\n",
       "    </tr>\n",
       "    <tr>\n",
       "      <th>5</th>\n",
       "      <td>4</td>\n",
       "      <td>26</td>\n",
       "      <td>4_cop_today_friends_due</td>\n",
       "    </tr>\n",
       "    <tr>\n",
       "      <th>6</th>\n",
       "      <td>5</td>\n",
       "      <td>17</td>\n",
       "      <td>5_private_jets_coca_cola</td>\n",
       "    </tr>\n",
       "  </tbody>\n",
       "</table>\n",
       "</div>"
      ],
      "text/plain": [
       "   Topic  Count                                 Name\n",
       "0     -1    107  -1_climate_world_president_minister\n",
       "1      0    237          0_climate_must_change_sunak\n",
       "2      1     47        1_egypt_climate_crisis_global\n",
       "3      2     45             2_sheikh_sharm_el_summit\n",
       "4      3     28           3_alaa_strike_prison_water\n",
       "5      4     26              4_cop_today_friends_due\n",
       "6      5     17             5_private_jets_coca_cola"
      ]
     },
     "execution_count": 34,
     "metadata": {},
     "output_type": "execute_result"
    }
   ],
   "source": [
    "topic_model.get_topic_info()"
   ]
  },
  {
   "cell_type": "code",
   "execution_count": 35,
   "metadata": {},
   "outputs": [
    {
     "data": {
      "application/vnd.plotly.v1+json": {
       "config": {
        "plotlyServerURL": "https://plot.ly"
       },
       "data": [
        {
         "customdata": [
          [
           0,
           "climate | must | change | sunak | world",
           237
          ],
          [
           1,
           "egypt | climate | crisis | global | pm",
           47
          ],
          [
           2,
           "sheikh | sharm | el | summit | climate",
           45
          ],
          [
           3,
           "alaa | strike | prison | water | fattah",
           28
          ],
          [
           4,
           "cop | today | friends | due | work",
           26
          ],
          [
           5,
           "private | jets | coca | cola | plastic",
           17
          ]
         ],
         "hovertemplate": "<b>Topic %{customdata[0]}</b><br>Words: %{customdata[1]}<br>Size: %{customdata[2]}",
         "legendgroup": "",
         "marker": {
          "color": "#B0BEC5",
          "line": {
           "color": "DarkSlateGrey",
           "width": 2
          },
          "size": [
           237,
           47,
           45,
           28,
           26,
           17
          ],
          "sizemode": "area",
          "sizeref": 0.148125,
          "symbol": "circle"
         },
         "mode": "markers",
         "name": "",
         "orientation": "v",
         "showlegend": false,
         "type": "scatter",
         "x": [
          1.930869460105896,
          2.3373429775238037,
          2.4007644653320312,
          2.8750200271606445,
          3.178060531616211,
          3.0043513774871826
         ],
         "xaxis": "x",
         "y": [
          18.767404556274414,
          19.36308479309082,
          15.594141960144043,
          18.81982421875,
          15.137452125549316,
          16.005861282348633
         ],
         "yaxis": "y"
        }
       ],
       "layout": {
        "annotations": [
         {
          "showarrow": false,
          "text": "D1",
          "x": 1.6412390410900115,
          "y": 17.56719090938568,
          "yshift": 10
         },
         {
          "showarrow": false,
          "text": "D2",
          "x": 2.648004326224327,
          "xshift": 10,
          "y": 22.267547512054442
         }
        ],
        "height": 650,
        "hoverlabel": {
         "bgcolor": "white",
         "font": {
          "family": "Rockwell",
          "size": 16
         }
        },
        "legend": {
         "itemsizing": "constant",
         "tracegroupgap": 0
        },
        "margin": {
         "t": 60
        },
        "shapes": [
         {
          "line": {
           "color": "#CFD8DC",
           "width": 2
          },
          "type": "line",
          "x0": 2.648004326224327,
          "x1": 2.648004326224327,
          "y0": 12.86683430671692,
          "y1": 22.267547512054442
         },
         {
          "line": {
           "color": "#9E9E9E",
           "width": 2
          },
          "type": "line",
          "x0": 1.6412390410900115,
          "x1": 3.6547696113586428,
          "y0": 17.56719090938568,
          "y1": 17.56719090938568
         }
        ],
        "sliders": [
         {
          "active": 0,
          "pad": {
           "t": 50
          },
          "steps": [
           {
            "args": [
             {
              "marker.color": [
               [
                "red",
                "#B0BEC5",
                "#B0BEC5",
                "#B0BEC5",
                "#B0BEC5",
                "#B0BEC5"
               ]
              ]
             }
            ],
            "label": "Topic 0",
            "method": "update"
           },
           {
            "args": [
             {
              "marker.color": [
               [
                "#B0BEC5",
                "red",
                "#B0BEC5",
                "#B0BEC5",
                "#B0BEC5",
                "#B0BEC5"
               ]
              ]
             }
            ],
            "label": "Topic 1",
            "method": "update"
           },
           {
            "args": [
             {
              "marker.color": [
               [
                "#B0BEC5",
                "#B0BEC5",
                "red",
                "#B0BEC5",
                "#B0BEC5",
                "#B0BEC5"
               ]
              ]
             }
            ],
            "label": "Topic 2",
            "method": "update"
           },
           {
            "args": [
             {
              "marker.color": [
               [
                "#B0BEC5",
                "#B0BEC5",
                "#B0BEC5",
                "red",
                "#B0BEC5",
                "#B0BEC5"
               ]
              ]
             }
            ],
            "label": "Topic 3",
            "method": "update"
           },
           {
            "args": [
             {
              "marker.color": [
               [
                "#B0BEC5",
                "#B0BEC5",
                "#B0BEC5",
                "#B0BEC5",
                "red",
                "#B0BEC5"
               ]
              ]
             }
            ],
            "label": "Topic 4",
            "method": "update"
           },
           {
            "args": [
             {
              "marker.color": [
               [
                "#B0BEC5",
                "#B0BEC5",
                "#B0BEC5",
                "#B0BEC5",
                "#B0BEC5",
                "red"
               ]
              ]
             }
            ],
            "label": "Topic 5",
            "method": "update"
           }
          ]
         }
        ],
        "template": {
         "data": {
          "bar": [
           {
            "error_x": {
             "color": "rgb(36,36,36)"
            },
            "error_y": {
             "color": "rgb(36,36,36)"
            },
            "marker": {
             "line": {
              "color": "white",
              "width": 0.5
             },
             "pattern": {
              "fillmode": "overlay",
              "size": 10,
              "solidity": 0.2
             }
            },
            "type": "bar"
           }
          ],
          "barpolar": [
           {
            "marker": {
             "line": {
              "color": "white",
              "width": 0.5
             },
             "pattern": {
              "fillmode": "overlay",
              "size": 10,
              "solidity": 0.2
             }
            },
            "type": "barpolar"
           }
          ],
          "carpet": [
           {
            "aaxis": {
             "endlinecolor": "rgb(36,36,36)",
             "gridcolor": "white",
             "linecolor": "white",
             "minorgridcolor": "white",
             "startlinecolor": "rgb(36,36,36)"
            },
            "baxis": {
             "endlinecolor": "rgb(36,36,36)",
             "gridcolor": "white",
             "linecolor": "white",
             "minorgridcolor": "white",
             "startlinecolor": "rgb(36,36,36)"
            },
            "type": "carpet"
           }
          ],
          "choropleth": [
           {
            "colorbar": {
             "outlinewidth": 1,
             "tickcolor": "rgb(36,36,36)",
             "ticks": "outside"
            },
            "type": "choropleth"
           }
          ],
          "contour": [
           {
            "colorbar": {
             "outlinewidth": 1,
             "tickcolor": "rgb(36,36,36)",
             "ticks": "outside"
            },
            "colorscale": [
             [
              0,
              "#440154"
             ],
             [
              0.1111111111111111,
              "#482878"
             ],
             [
              0.2222222222222222,
              "#3e4989"
             ],
             [
              0.3333333333333333,
              "#31688e"
             ],
             [
              0.4444444444444444,
              "#26828e"
             ],
             [
              0.5555555555555556,
              "#1f9e89"
             ],
             [
              0.6666666666666666,
              "#35b779"
             ],
             [
              0.7777777777777778,
              "#6ece58"
             ],
             [
              0.8888888888888888,
              "#b5de2b"
             ],
             [
              1,
              "#fde725"
             ]
            ],
            "type": "contour"
           }
          ],
          "contourcarpet": [
           {
            "colorbar": {
             "outlinewidth": 1,
             "tickcolor": "rgb(36,36,36)",
             "ticks": "outside"
            },
            "type": "contourcarpet"
           }
          ],
          "heatmap": [
           {
            "colorbar": {
             "outlinewidth": 1,
             "tickcolor": "rgb(36,36,36)",
             "ticks": "outside"
            },
            "colorscale": [
             [
              0,
              "#440154"
             ],
             [
              0.1111111111111111,
              "#482878"
             ],
             [
              0.2222222222222222,
              "#3e4989"
             ],
             [
              0.3333333333333333,
              "#31688e"
             ],
             [
              0.4444444444444444,
              "#26828e"
             ],
             [
              0.5555555555555556,
              "#1f9e89"
             ],
             [
              0.6666666666666666,
              "#35b779"
             ],
             [
              0.7777777777777778,
              "#6ece58"
             ],
             [
              0.8888888888888888,
              "#b5de2b"
             ],
             [
              1,
              "#fde725"
             ]
            ],
            "type": "heatmap"
           }
          ],
          "heatmapgl": [
           {
            "colorbar": {
             "outlinewidth": 1,
             "tickcolor": "rgb(36,36,36)",
             "ticks": "outside"
            },
            "colorscale": [
             [
              0,
              "#440154"
             ],
             [
              0.1111111111111111,
              "#482878"
             ],
             [
              0.2222222222222222,
              "#3e4989"
             ],
             [
              0.3333333333333333,
              "#31688e"
             ],
             [
              0.4444444444444444,
              "#26828e"
             ],
             [
              0.5555555555555556,
              "#1f9e89"
             ],
             [
              0.6666666666666666,
              "#35b779"
             ],
             [
              0.7777777777777778,
              "#6ece58"
             ],
             [
              0.8888888888888888,
              "#b5de2b"
             ],
             [
              1,
              "#fde725"
             ]
            ],
            "type": "heatmapgl"
           }
          ],
          "histogram": [
           {
            "marker": {
             "line": {
              "color": "white",
              "width": 0.6
             }
            },
            "type": "histogram"
           }
          ],
          "histogram2d": [
           {
            "colorbar": {
             "outlinewidth": 1,
             "tickcolor": "rgb(36,36,36)",
             "ticks": "outside"
            },
            "colorscale": [
             [
              0,
              "#440154"
             ],
             [
              0.1111111111111111,
              "#482878"
             ],
             [
              0.2222222222222222,
              "#3e4989"
             ],
             [
              0.3333333333333333,
              "#31688e"
             ],
             [
              0.4444444444444444,
              "#26828e"
             ],
             [
              0.5555555555555556,
              "#1f9e89"
             ],
             [
              0.6666666666666666,
              "#35b779"
             ],
             [
              0.7777777777777778,
              "#6ece58"
             ],
             [
              0.8888888888888888,
              "#b5de2b"
             ],
             [
              1,
              "#fde725"
             ]
            ],
            "type": "histogram2d"
           }
          ],
          "histogram2dcontour": [
           {
            "colorbar": {
             "outlinewidth": 1,
             "tickcolor": "rgb(36,36,36)",
             "ticks": "outside"
            },
            "colorscale": [
             [
              0,
              "#440154"
             ],
             [
              0.1111111111111111,
              "#482878"
             ],
             [
              0.2222222222222222,
              "#3e4989"
             ],
             [
              0.3333333333333333,
              "#31688e"
             ],
             [
              0.4444444444444444,
              "#26828e"
             ],
             [
              0.5555555555555556,
              "#1f9e89"
             ],
             [
              0.6666666666666666,
              "#35b779"
             ],
             [
              0.7777777777777778,
              "#6ece58"
             ],
             [
              0.8888888888888888,
              "#b5de2b"
             ],
             [
              1,
              "#fde725"
             ]
            ],
            "type": "histogram2dcontour"
           }
          ],
          "mesh3d": [
           {
            "colorbar": {
             "outlinewidth": 1,
             "tickcolor": "rgb(36,36,36)",
             "ticks": "outside"
            },
            "type": "mesh3d"
           }
          ],
          "parcoords": [
           {
            "line": {
             "colorbar": {
              "outlinewidth": 1,
              "tickcolor": "rgb(36,36,36)",
              "ticks": "outside"
             }
            },
            "type": "parcoords"
           }
          ],
          "pie": [
           {
            "automargin": true,
            "type": "pie"
           }
          ],
          "scatter": [
           {
            "fillpattern": {
             "fillmode": "overlay",
             "size": 10,
             "solidity": 0.2
            },
            "type": "scatter"
           }
          ],
          "scatter3d": [
           {
            "line": {
             "colorbar": {
              "outlinewidth": 1,
              "tickcolor": "rgb(36,36,36)",
              "ticks": "outside"
             }
            },
            "marker": {
             "colorbar": {
              "outlinewidth": 1,
              "tickcolor": "rgb(36,36,36)",
              "ticks": "outside"
             }
            },
            "type": "scatter3d"
           }
          ],
          "scattercarpet": [
           {
            "marker": {
             "colorbar": {
              "outlinewidth": 1,
              "tickcolor": "rgb(36,36,36)",
              "ticks": "outside"
             }
            },
            "type": "scattercarpet"
           }
          ],
          "scattergeo": [
           {
            "marker": {
             "colorbar": {
              "outlinewidth": 1,
              "tickcolor": "rgb(36,36,36)",
              "ticks": "outside"
             }
            },
            "type": "scattergeo"
           }
          ],
          "scattergl": [
           {
            "marker": {
             "colorbar": {
              "outlinewidth": 1,
              "tickcolor": "rgb(36,36,36)",
              "ticks": "outside"
             }
            },
            "type": "scattergl"
           }
          ],
          "scattermapbox": [
           {
            "marker": {
             "colorbar": {
              "outlinewidth": 1,
              "tickcolor": "rgb(36,36,36)",
              "ticks": "outside"
             }
            },
            "type": "scattermapbox"
           }
          ],
          "scatterpolar": [
           {
            "marker": {
             "colorbar": {
              "outlinewidth": 1,
              "tickcolor": "rgb(36,36,36)",
              "ticks": "outside"
             }
            },
            "type": "scatterpolar"
           }
          ],
          "scatterpolargl": [
           {
            "marker": {
             "colorbar": {
              "outlinewidth": 1,
              "tickcolor": "rgb(36,36,36)",
              "ticks": "outside"
             }
            },
            "type": "scatterpolargl"
           }
          ],
          "scatterternary": [
           {
            "marker": {
             "colorbar": {
              "outlinewidth": 1,
              "tickcolor": "rgb(36,36,36)",
              "ticks": "outside"
             }
            },
            "type": "scatterternary"
           }
          ],
          "surface": [
           {
            "colorbar": {
             "outlinewidth": 1,
             "tickcolor": "rgb(36,36,36)",
             "ticks": "outside"
            },
            "colorscale": [
             [
              0,
              "#440154"
             ],
             [
              0.1111111111111111,
              "#482878"
             ],
             [
              0.2222222222222222,
              "#3e4989"
             ],
             [
              0.3333333333333333,
              "#31688e"
             ],
             [
              0.4444444444444444,
              "#26828e"
             ],
             [
              0.5555555555555556,
              "#1f9e89"
             ],
             [
              0.6666666666666666,
              "#35b779"
             ],
             [
              0.7777777777777778,
              "#6ece58"
             ],
             [
              0.8888888888888888,
              "#b5de2b"
             ],
             [
              1,
              "#fde725"
             ]
            ],
            "type": "surface"
           }
          ],
          "table": [
           {
            "cells": {
             "fill": {
              "color": "rgb(237,237,237)"
             },
             "line": {
              "color": "white"
             }
            },
            "header": {
             "fill": {
              "color": "rgb(217,217,217)"
             },
             "line": {
              "color": "white"
             }
            },
            "type": "table"
           }
          ]
         },
         "layout": {
          "annotationdefaults": {
           "arrowhead": 0,
           "arrowwidth": 1
          },
          "autotypenumbers": "strict",
          "coloraxis": {
           "colorbar": {
            "outlinewidth": 1,
            "tickcolor": "rgb(36,36,36)",
            "ticks": "outside"
           }
          },
          "colorscale": {
           "diverging": [
            [
             0,
             "rgb(103,0,31)"
            ],
            [
             0.1,
             "rgb(178,24,43)"
            ],
            [
             0.2,
             "rgb(214,96,77)"
            ],
            [
             0.3,
             "rgb(244,165,130)"
            ],
            [
             0.4,
             "rgb(253,219,199)"
            ],
            [
             0.5,
             "rgb(247,247,247)"
            ],
            [
             0.6,
             "rgb(209,229,240)"
            ],
            [
             0.7,
             "rgb(146,197,222)"
            ],
            [
             0.8,
             "rgb(67,147,195)"
            ],
            [
             0.9,
             "rgb(33,102,172)"
            ],
            [
             1,
             "rgb(5,48,97)"
            ]
           ],
           "sequential": [
            [
             0,
             "#440154"
            ],
            [
             0.1111111111111111,
             "#482878"
            ],
            [
             0.2222222222222222,
             "#3e4989"
            ],
            [
             0.3333333333333333,
             "#31688e"
            ],
            [
             0.4444444444444444,
             "#26828e"
            ],
            [
             0.5555555555555556,
             "#1f9e89"
            ],
            [
             0.6666666666666666,
             "#35b779"
            ],
            [
             0.7777777777777778,
             "#6ece58"
            ],
            [
             0.8888888888888888,
             "#b5de2b"
            ],
            [
             1,
             "#fde725"
            ]
           ],
           "sequentialminus": [
            [
             0,
             "#440154"
            ],
            [
             0.1111111111111111,
             "#482878"
            ],
            [
             0.2222222222222222,
             "#3e4989"
            ],
            [
             0.3333333333333333,
             "#31688e"
            ],
            [
             0.4444444444444444,
             "#26828e"
            ],
            [
             0.5555555555555556,
             "#1f9e89"
            ],
            [
             0.6666666666666666,
             "#35b779"
            ],
            [
             0.7777777777777778,
             "#6ece58"
            ],
            [
             0.8888888888888888,
             "#b5de2b"
            ],
            [
             1,
             "#fde725"
            ]
           ]
          },
          "colorway": [
           "#1F77B4",
           "#FF7F0E",
           "#2CA02C",
           "#D62728",
           "#9467BD",
           "#8C564B",
           "#E377C2",
           "#7F7F7F",
           "#BCBD22",
           "#17BECF"
          ],
          "font": {
           "color": "rgb(36,36,36)"
          },
          "geo": {
           "bgcolor": "white",
           "lakecolor": "white",
           "landcolor": "white",
           "showlakes": true,
           "showland": true,
           "subunitcolor": "white"
          },
          "hoverlabel": {
           "align": "left"
          },
          "hovermode": "closest",
          "mapbox": {
           "style": "light"
          },
          "paper_bgcolor": "white",
          "plot_bgcolor": "white",
          "polar": {
           "angularaxis": {
            "gridcolor": "rgb(232,232,232)",
            "linecolor": "rgb(36,36,36)",
            "showgrid": false,
            "showline": true,
            "ticks": "outside"
           },
           "bgcolor": "white",
           "radialaxis": {
            "gridcolor": "rgb(232,232,232)",
            "linecolor": "rgb(36,36,36)",
            "showgrid": false,
            "showline": true,
            "ticks": "outside"
           }
          },
          "scene": {
           "xaxis": {
            "backgroundcolor": "white",
            "gridcolor": "rgb(232,232,232)",
            "gridwidth": 2,
            "linecolor": "rgb(36,36,36)",
            "showbackground": true,
            "showgrid": false,
            "showline": true,
            "ticks": "outside",
            "zeroline": false,
            "zerolinecolor": "rgb(36,36,36)"
           },
           "yaxis": {
            "backgroundcolor": "white",
            "gridcolor": "rgb(232,232,232)",
            "gridwidth": 2,
            "linecolor": "rgb(36,36,36)",
            "showbackground": true,
            "showgrid": false,
            "showline": true,
            "ticks": "outside",
            "zeroline": false,
            "zerolinecolor": "rgb(36,36,36)"
           },
           "zaxis": {
            "backgroundcolor": "white",
            "gridcolor": "rgb(232,232,232)",
            "gridwidth": 2,
            "linecolor": "rgb(36,36,36)",
            "showbackground": true,
            "showgrid": false,
            "showline": true,
            "ticks": "outside",
            "zeroline": false,
            "zerolinecolor": "rgb(36,36,36)"
           }
          },
          "shapedefaults": {
           "fillcolor": "black",
           "line": {
            "width": 0
           },
           "opacity": 0.3
          },
          "ternary": {
           "aaxis": {
            "gridcolor": "rgb(232,232,232)",
            "linecolor": "rgb(36,36,36)",
            "showgrid": false,
            "showline": true,
            "ticks": "outside"
           },
           "baxis": {
            "gridcolor": "rgb(232,232,232)",
            "linecolor": "rgb(36,36,36)",
            "showgrid": false,
            "showline": true,
            "ticks": "outside"
           },
           "bgcolor": "white",
           "caxis": {
            "gridcolor": "rgb(232,232,232)",
            "linecolor": "rgb(36,36,36)",
            "showgrid": false,
            "showline": true,
            "ticks": "outside"
           }
          },
          "title": {
           "x": 0.05
          },
          "xaxis": {
           "automargin": true,
           "gridcolor": "rgb(232,232,232)",
           "linecolor": "rgb(36,36,36)",
           "showgrid": false,
           "showline": true,
           "ticks": "outside",
           "title": {
            "standoff": 15
           },
           "zeroline": false,
           "zerolinecolor": "rgb(36,36,36)"
          },
          "yaxis": {
           "automargin": true,
           "gridcolor": "rgb(232,232,232)",
           "linecolor": "rgb(36,36,36)",
           "showgrid": false,
           "showline": true,
           "ticks": "outside",
           "title": {
            "standoff": 15
           },
           "zeroline": false,
           "zerolinecolor": "rgb(36,36,36)"
          }
         }
        },
        "title": {
         "font": {
          "color": "Black",
          "size": 22
         },
         "text": "<b>Intertopic Distance Map",
         "x": 0.5,
         "xanchor": "center",
         "y": 0.95,
         "yanchor": "top"
        },
        "width": 650,
        "xaxis": {
         "anchor": "y",
         "domain": [
          0,
          1
         ],
         "range": [
          1.6412390410900115,
          3.6547696113586428
         ],
         "title": {
          "text": ""
         },
         "visible": false
        },
        "yaxis": {
         "anchor": "x",
         "domain": [
          0,
          1
         ],
         "range": [
          12.86683430671692,
          22.267547512054442
         ],
         "title": {
          "text": ""
         },
         "visible": false
        }
       }
      }
     },
     "metadata": {},
     "output_type": "display_data"
    }
   ],
   "source": [
    "topic_model.visualize_topics()"
   ]
  },
  {
   "cell_type": "code",
   "execution_count": 36,
   "metadata": {},
   "outputs": [
    {
     "data": {
      "application/vnd.plotly.v1+json": {
       "config": {
        "plotlyServerURL": "https://plot.ly"
       },
       "data": [
        {
         "marker": {
          "color": "#D55E00"
         },
         "orientation": "h",
         "type": "bar",
         "x": [
          0.026083603772284986,
          0.027686683490312863,
          0.028440063729204573,
          0.029443085306957398,
          0.06682959898508913
         ],
         "xaxis": "x",
         "y": [
          "world  ",
          "sunak  ",
          "change  ",
          "must  ",
          "climate  "
         ],
         "yaxis": "y"
        },
        {
         "marker": {
          "color": "#0072B2"
         },
         "orientation": "h",
         "type": "bar",
         "x": [
          0.030995792861063083,
          0.037316163786576165,
          0.04953501097507494,
          0.0621386631230409,
          0.15505065871927606
         ],
         "xaxis": "x2",
         "y": [
          "pm  ",
          "global  ",
          "crisis  ",
          "climate  ",
          "egypt  "
         ],
         "yaxis": "y2"
        },
        {
         "marker": {
          "color": "#CC79A7"
         },
         "orientation": "h",
         "type": "bar",
         "x": [
          0.05540972848629861,
          0.0717623626863765,
          0.1465867679509323,
          0.14930236832757238,
          0.15452656547225546
         ],
         "xaxis": "x3",
         "y": [
          "climate  ",
          "summit  ",
          "el  ",
          "sharm  ",
          "sheikh  "
         ],
         "yaxis": "y3"
        },
        {
         "marker": {
          "color": "#E69F00"
         },
         "orientation": "h",
         "type": "bar",
         "x": [
          0.07039805942801913,
          0.07283524946000315,
          0.07822006603113237,
          0.0843623739647606,
          0.13938467389579193
         ],
         "xaxis": "x4",
         "y": [
          "fattah  ",
          "water  ",
          "prison  ",
          "strike  ",
          "alaa  "
         ],
         "yaxis": "y4"
        },
        {
         "marker": {
          "color": "#56B4E9"
         },
         "orientation": "h",
         "type": "bar",
         "x": [
          0.038977006700459525,
          0.044662690973976536,
          0.04830235352706488,
          0.05250859816125458,
          0.10003601029532473
         ],
         "xaxis": "x5",
         "y": [
          "work  ",
          "due  ",
          "friends  ",
          "today  ",
          "cop  "
         ],
         "yaxis": "y5"
        },
        {
         "marker": {
          "color": "#009E73"
         },
         "orientation": "h",
         "type": "bar",
         "x": [
          0.07618478141414681,
          0.08588638720085107,
          0.08588638720085107,
          0.12004517571885356,
          0.12179154972680344
         ],
         "xaxis": "x6",
         "y": [
          "plastic  ",
          "cola  ",
          "coca  ",
          "jets  ",
          "private  "
         ],
         "yaxis": "y6"
        }
       ],
       "layout": {
        "annotations": [
         {
          "font": {
           "size": 16
          },
          "showarrow": false,
          "text": "Topic 0",
          "x": 0.0875,
          "xanchor": "center",
          "xref": "paper",
          "y": 1,
          "yanchor": "bottom",
          "yref": "paper"
         },
         {
          "font": {
           "size": 16
          },
          "showarrow": false,
          "text": "Topic 1",
          "x": 0.36250000000000004,
          "xanchor": "center",
          "xref": "paper",
          "y": 1,
          "yanchor": "bottom",
          "yref": "paper"
         },
         {
          "font": {
           "size": 16
          },
          "showarrow": false,
          "text": "Topic 2",
          "x": 0.6375000000000001,
          "xanchor": "center",
          "xref": "paper",
          "y": 1,
          "yanchor": "bottom",
          "yref": "paper"
         },
         {
          "font": {
           "size": 16
          },
          "showarrow": false,
          "text": "Topic 3",
          "x": 0.9125,
          "xanchor": "center",
          "xref": "paper",
          "y": 1,
          "yanchor": "bottom",
          "yref": "paper"
         },
         {
          "font": {
           "size": 16
          },
          "showarrow": false,
          "text": "Topic 4",
          "x": 0.0875,
          "xanchor": "center",
          "xref": "paper",
          "y": 0.4,
          "yanchor": "bottom",
          "yref": "paper"
         },
         {
          "font": {
           "size": 16
          },
          "showarrow": false,
          "text": "Topic 5",
          "x": 0.36250000000000004,
          "xanchor": "center",
          "xref": "paper",
          "y": 0.4,
          "yanchor": "bottom",
          "yref": "paper"
         }
        ],
        "height": 500,
        "hoverlabel": {
         "bgcolor": "white",
         "font": {
          "family": "Rockwell",
          "size": 16
         }
        },
        "showlegend": false,
        "template": {
         "data": {
          "bar": [
           {
            "error_x": {
             "color": "#2a3f5f"
            },
            "error_y": {
             "color": "#2a3f5f"
            },
            "marker": {
             "line": {
              "color": "white",
              "width": 0.5
             },
             "pattern": {
              "fillmode": "overlay",
              "size": 10,
              "solidity": 0.2
             }
            },
            "type": "bar"
           }
          ],
          "barpolar": [
           {
            "marker": {
             "line": {
              "color": "white",
              "width": 0.5
             },
             "pattern": {
              "fillmode": "overlay",
              "size": 10,
              "solidity": 0.2
             }
            },
            "type": "barpolar"
           }
          ],
          "carpet": [
           {
            "aaxis": {
             "endlinecolor": "#2a3f5f",
             "gridcolor": "#C8D4E3",
             "linecolor": "#C8D4E3",
             "minorgridcolor": "#C8D4E3",
             "startlinecolor": "#2a3f5f"
            },
            "baxis": {
             "endlinecolor": "#2a3f5f",
             "gridcolor": "#C8D4E3",
             "linecolor": "#C8D4E3",
             "minorgridcolor": "#C8D4E3",
             "startlinecolor": "#2a3f5f"
            },
            "type": "carpet"
           }
          ],
          "choropleth": [
           {
            "colorbar": {
             "outlinewidth": 0,
             "ticks": ""
            },
            "type": "choropleth"
           }
          ],
          "contour": [
           {
            "colorbar": {
             "outlinewidth": 0,
             "ticks": ""
            },
            "colorscale": [
             [
              0,
              "#0d0887"
             ],
             [
              0.1111111111111111,
              "#46039f"
             ],
             [
              0.2222222222222222,
              "#7201a8"
             ],
             [
              0.3333333333333333,
              "#9c179e"
             ],
             [
              0.4444444444444444,
              "#bd3786"
             ],
             [
              0.5555555555555556,
              "#d8576b"
             ],
             [
              0.6666666666666666,
              "#ed7953"
             ],
             [
              0.7777777777777778,
              "#fb9f3a"
             ],
             [
              0.8888888888888888,
              "#fdca26"
             ],
             [
              1,
              "#f0f921"
             ]
            ],
            "type": "contour"
           }
          ],
          "contourcarpet": [
           {
            "colorbar": {
             "outlinewidth": 0,
             "ticks": ""
            },
            "type": "contourcarpet"
           }
          ],
          "heatmap": [
           {
            "colorbar": {
             "outlinewidth": 0,
             "ticks": ""
            },
            "colorscale": [
             [
              0,
              "#0d0887"
             ],
             [
              0.1111111111111111,
              "#46039f"
             ],
             [
              0.2222222222222222,
              "#7201a8"
             ],
             [
              0.3333333333333333,
              "#9c179e"
             ],
             [
              0.4444444444444444,
              "#bd3786"
             ],
             [
              0.5555555555555556,
              "#d8576b"
             ],
             [
              0.6666666666666666,
              "#ed7953"
             ],
             [
              0.7777777777777778,
              "#fb9f3a"
             ],
             [
              0.8888888888888888,
              "#fdca26"
             ],
             [
              1,
              "#f0f921"
             ]
            ],
            "type": "heatmap"
           }
          ],
          "heatmapgl": [
           {
            "colorbar": {
             "outlinewidth": 0,
             "ticks": ""
            },
            "colorscale": [
             [
              0,
              "#0d0887"
             ],
             [
              0.1111111111111111,
              "#46039f"
             ],
             [
              0.2222222222222222,
              "#7201a8"
             ],
             [
              0.3333333333333333,
              "#9c179e"
             ],
             [
              0.4444444444444444,
              "#bd3786"
             ],
             [
              0.5555555555555556,
              "#d8576b"
             ],
             [
              0.6666666666666666,
              "#ed7953"
             ],
             [
              0.7777777777777778,
              "#fb9f3a"
             ],
             [
              0.8888888888888888,
              "#fdca26"
             ],
             [
              1,
              "#f0f921"
             ]
            ],
            "type": "heatmapgl"
           }
          ],
          "histogram": [
           {
            "marker": {
             "pattern": {
              "fillmode": "overlay",
              "size": 10,
              "solidity": 0.2
             }
            },
            "type": "histogram"
           }
          ],
          "histogram2d": [
           {
            "colorbar": {
             "outlinewidth": 0,
             "ticks": ""
            },
            "colorscale": [
             [
              0,
              "#0d0887"
             ],
             [
              0.1111111111111111,
              "#46039f"
             ],
             [
              0.2222222222222222,
              "#7201a8"
             ],
             [
              0.3333333333333333,
              "#9c179e"
             ],
             [
              0.4444444444444444,
              "#bd3786"
             ],
             [
              0.5555555555555556,
              "#d8576b"
             ],
             [
              0.6666666666666666,
              "#ed7953"
             ],
             [
              0.7777777777777778,
              "#fb9f3a"
             ],
             [
              0.8888888888888888,
              "#fdca26"
             ],
             [
              1,
              "#f0f921"
             ]
            ],
            "type": "histogram2d"
           }
          ],
          "histogram2dcontour": [
           {
            "colorbar": {
             "outlinewidth": 0,
             "ticks": ""
            },
            "colorscale": [
             [
              0,
              "#0d0887"
             ],
             [
              0.1111111111111111,
              "#46039f"
             ],
             [
              0.2222222222222222,
              "#7201a8"
             ],
             [
              0.3333333333333333,
              "#9c179e"
             ],
             [
              0.4444444444444444,
              "#bd3786"
             ],
             [
              0.5555555555555556,
              "#d8576b"
             ],
             [
              0.6666666666666666,
              "#ed7953"
             ],
             [
              0.7777777777777778,
              "#fb9f3a"
             ],
             [
              0.8888888888888888,
              "#fdca26"
             ],
             [
              1,
              "#f0f921"
             ]
            ],
            "type": "histogram2dcontour"
           }
          ],
          "mesh3d": [
           {
            "colorbar": {
             "outlinewidth": 0,
             "ticks": ""
            },
            "type": "mesh3d"
           }
          ],
          "parcoords": [
           {
            "line": {
             "colorbar": {
              "outlinewidth": 0,
              "ticks": ""
             }
            },
            "type": "parcoords"
           }
          ],
          "pie": [
           {
            "automargin": true,
            "type": "pie"
           }
          ],
          "scatter": [
           {
            "fillpattern": {
             "fillmode": "overlay",
             "size": 10,
             "solidity": 0.2
            },
            "type": "scatter"
           }
          ],
          "scatter3d": [
           {
            "line": {
             "colorbar": {
              "outlinewidth": 0,
              "ticks": ""
             }
            },
            "marker": {
             "colorbar": {
              "outlinewidth": 0,
              "ticks": ""
             }
            },
            "type": "scatter3d"
           }
          ],
          "scattercarpet": [
           {
            "marker": {
             "colorbar": {
              "outlinewidth": 0,
              "ticks": ""
             }
            },
            "type": "scattercarpet"
           }
          ],
          "scattergeo": [
           {
            "marker": {
             "colorbar": {
              "outlinewidth": 0,
              "ticks": ""
             }
            },
            "type": "scattergeo"
           }
          ],
          "scattergl": [
           {
            "marker": {
             "colorbar": {
              "outlinewidth": 0,
              "ticks": ""
             }
            },
            "type": "scattergl"
           }
          ],
          "scattermapbox": [
           {
            "marker": {
             "colorbar": {
              "outlinewidth": 0,
              "ticks": ""
             }
            },
            "type": "scattermapbox"
           }
          ],
          "scatterpolar": [
           {
            "marker": {
             "colorbar": {
              "outlinewidth": 0,
              "ticks": ""
             }
            },
            "type": "scatterpolar"
           }
          ],
          "scatterpolargl": [
           {
            "marker": {
             "colorbar": {
              "outlinewidth": 0,
              "ticks": ""
             }
            },
            "type": "scatterpolargl"
           }
          ],
          "scatterternary": [
           {
            "marker": {
             "colorbar": {
              "outlinewidth": 0,
              "ticks": ""
             }
            },
            "type": "scatterternary"
           }
          ],
          "surface": [
           {
            "colorbar": {
             "outlinewidth": 0,
             "ticks": ""
            },
            "colorscale": [
             [
              0,
              "#0d0887"
             ],
             [
              0.1111111111111111,
              "#46039f"
             ],
             [
              0.2222222222222222,
              "#7201a8"
             ],
             [
              0.3333333333333333,
              "#9c179e"
             ],
             [
              0.4444444444444444,
              "#bd3786"
             ],
             [
              0.5555555555555556,
              "#d8576b"
             ],
             [
              0.6666666666666666,
              "#ed7953"
             ],
             [
              0.7777777777777778,
              "#fb9f3a"
             ],
             [
              0.8888888888888888,
              "#fdca26"
             ],
             [
              1,
              "#f0f921"
             ]
            ],
            "type": "surface"
           }
          ],
          "table": [
           {
            "cells": {
             "fill": {
              "color": "#EBF0F8"
             },
             "line": {
              "color": "white"
             }
            },
            "header": {
             "fill": {
              "color": "#C8D4E3"
             },
             "line": {
              "color": "white"
             }
            },
            "type": "table"
           }
          ]
         },
         "layout": {
          "annotationdefaults": {
           "arrowcolor": "#2a3f5f",
           "arrowhead": 0,
           "arrowwidth": 1
          },
          "autotypenumbers": "strict",
          "coloraxis": {
           "colorbar": {
            "outlinewidth": 0,
            "ticks": ""
           }
          },
          "colorscale": {
           "diverging": [
            [
             0,
             "#8e0152"
            ],
            [
             0.1,
             "#c51b7d"
            ],
            [
             0.2,
             "#de77ae"
            ],
            [
             0.3,
             "#f1b6da"
            ],
            [
             0.4,
             "#fde0ef"
            ],
            [
             0.5,
             "#f7f7f7"
            ],
            [
             0.6,
             "#e6f5d0"
            ],
            [
             0.7,
             "#b8e186"
            ],
            [
             0.8,
             "#7fbc41"
            ],
            [
             0.9,
             "#4d9221"
            ],
            [
             1,
             "#276419"
            ]
           ],
           "sequential": [
            [
             0,
             "#0d0887"
            ],
            [
             0.1111111111111111,
             "#46039f"
            ],
            [
             0.2222222222222222,
             "#7201a8"
            ],
            [
             0.3333333333333333,
             "#9c179e"
            ],
            [
             0.4444444444444444,
             "#bd3786"
            ],
            [
             0.5555555555555556,
             "#d8576b"
            ],
            [
             0.6666666666666666,
             "#ed7953"
            ],
            [
             0.7777777777777778,
             "#fb9f3a"
            ],
            [
             0.8888888888888888,
             "#fdca26"
            ],
            [
             1,
             "#f0f921"
            ]
           ],
           "sequentialminus": [
            [
             0,
             "#0d0887"
            ],
            [
             0.1111111111111111,
             "#46039f"
            ],
            [
             0.2222222222222222,
             "#7201a8"
            ],
            [
             0.3333333333333333,
             "#9c179e"
            ],
            [
             0.4444444444444444,
             "#bd3786"
            ],
            [
             0.5555555555555556,
             "#d8576b"
            ],
            [
             0.6666666666666666,
             "#ed7953"
            ],
            [
             0.7777777777777778,
             "#fb9f3a"
            ],
            [
             0.8888888888888888,
             "#fdca26"
            ],
            [
             1,
             "#f0f921"
            ]
           ]
          },
          "colorway": [
           "#636efa",
           "#EF553B",
           "#00cc96",
           "#ab63fa",
           "#FFA15A",
           "#19d3f3",
           "#FF6692",
           "#B6E880",
           "#FF97FF",
           "#FECB52"
          ],
          "font": {
           "color": "#2a3f5f"
          },
          "geo": {
           "bgcolor": "white",
           "lakecolor": "white",
           "landcolor": "white",
           "showlakes": true,
           "showland": true,
           "subunitcolor": "#C8D4E3"
          },
          "hoverlabel": {
           "align": "left"
          },
          "hovermode": "closest",
          "mapbox": {
           "style": "light"
          },
          "paper_bgcolor": "white",
          "plot_bgcolor": "white",
          "polar": {
           "angularaxis": {
            "gridcolor": "#EBF0F8",
            "linecolor": "#EBF0F8",
            "ticks": ""
           },
           "bgcolor": "white",
           "radialaxis": {
            "gridcolor": "#EBF0F8",
            "linecolor": "#EBF0F8",
            "ticks": ""
           }
          },
          "scene": {
           "xaxis": {
            "backgroundcolor": "white",
            "gridcolor": "#DFE8F3",
            "gridwidth": 2,
            "linecolor": "#EBF0F8",
            "showbackground": true,
            "ticks": "",
            "zerolinecolor": "#EBF0F8"
           },
           "yaxis": {
            "backgroundcolor": "white",
            "gridcolor": "#DFE8F3",
            "gridwidth": 2,
            "linecolor": "#EBF0F8",
            "showbackground": true,
            "ticks": "",
            "zerolinecolor": "#EBF0F8"
           },
           "zaxis": {
            "backgroundcolor": "white",
            "gridcolor": "#DFE8F3",
            "gridwidth": 2,
            "linecolor": "#EBF0F8",
            "showbackground": true,
            "ticks": "",
            "zerolinecolor": "#EBF0F8"
           }
          },
          "shapedefaults": {
           "line": {
            "color": "#2a3f5f"
           }
          },
          "ternary": {
           "aaxis": {
            "gridcolor": "#DFE8F3",
            "linecolor": "#A2B1C6",
            "ticks": ""
           },
           "baxis": {
            "gridcolor": "#DFE8F3",
            "linecolor": "#A2B1C6",
            "ticks": ""
           },
           "bgcolor": "white",
           "caxis": {
            "gridcolor": "#DFE8F3",
            "linecolor": "#A2B1C6",
            "ticks": ""
           }
          },
          "title": {
           "x": 0.05
          },
          "xaxis": {
           "automargin": true,
           "gridcolor": "#EBF0F8",
           "linecolor": "#EBF0F8",
           "ticks": "",
           "title": {
            "standoff": 15
           },
           "zerolinecolor": "#EBF0F8",
           "zerolinewidth": 2
          },
          "yaxis": {
           "automargin": true,
           "gridcolor": "#EBF0F8",
           "linecolor": "#EBF0F8",
           "ticks": "",
           "title": {
            "standoff": 15
           },
           "zerolinecolor": "#EBF0F8",
           "zerolinewidth": 2
          }
         }
        },
        "title": {
         "font": {
          "color": "Black",
          "size": 22
         },
         "text": "<b>Topic Word Scores",
         "x": 0.5,
         "xanchor": "center",
         "yanchor": "top"
        },
        "width": 1000,
        "xaxis": {
         "anchor": "y",
         "domain": [
          0,
          0.175
         ],
         "showgrid": true
        },
        "xaxis2": {
         "anchor": "y2",
         "domain": [
          0.275,
          0.45
         ],
         "showgrid": true
        },
        "xaxis3": {
         "anchor": "y3",
         "domain": [
          0.55,
          0.7250000000000001
         ],
         "showgrid": true
        },
        "xaxis4": {
         "anchor": "y4",
         "domain": [
          0.825,
          1
         ],
         "showgrid": true
        },
        "xaxis5": {
         "anchor": "y5",
         "domain": [
          0,
          0.175
         ],
         "showgrid": true
        },
        "xaxis6": {
         "anchor": "y6",
         "domain": [
          0.275,
          0.45
         ],
         "showgrid": true
        },
        "xaxis7": {
         "anchor": "y7",
         "domain": [
          0.55,
          0.7250000000000001
         ],
         "showgrid": true
        },
        "xaxis8": {
         "anchor": "y8",
         "domain": [
          0.825,
          1
         ],
         "showgrid": true
        },
        "yaxis": {
         "anchor": "x",
         "domain": [
          0.6000000000000001,
          1
         ],
         "showgrid": true
        },
        "yaxis2": {
         "anchor": "x2",
         "domain": [
          0.6000000000000001,
          1
         ],
         "showgrid": true
        },
        "yaxis3": {
         "anchor": "x3",
         "domain": [
          0.6000000000000001,
          1
         ],
         "showgrid": true
        },
        "yaxis4": {
         "anchor": "x4",
         "domain": [
          0.6000000000000001,
          1
         ],
         "showgrid": true
        },
        "yaxis5": {
         "anchor": "x5",
         "domain": [
          0,
          0.4
         ],
         "showgrid": true
        },
        "yaxis6": {
         "anchor": "x6",
         "domain": [
          0,
          0.4
         ],
         "showgrid": true
        },
        "yaxis7": {
         "anchor": "x7",
         "domain": [
          0,
          0.4
         ],
         "showgrid": true
        },
        "yaxis8": {
         "anchor": "x8",
         "domain": [
          0,
          0.4
         ],
         "showgrid": true
        }
       }
      }
     },
     "metadata": {},
     "output_type": "display_data"
    }
   ],
   "source": [
    "topic_model.visualize_barchart()"
   ]
  },
  {
   "cell_type": "code",
   "execution_count": 37,
   "metadata": {},
   "outputs": [
    {
     "data": {
      "application/vnd.plotly.v1+json": {
       "config": {
        "plotlyServerURL": "https://plot.ly"
       },
       "data": [
        {
         "coloraxis": "coloraxis",
         "hovertemplate": "x: %{x}<br>y: %{y}<br>Similarity Score: %{z}<extra></extra>",
         "name": "0",
         "type": "heatmap",
         "x": [
          "0_climate_must_change",
          "1_egypt_climate_crisis",
          "2_sheikh_sharm_el",
          "3_alaa_strike_prison",
          "4_cop_today_friends",
          "5_private_jets_coca"
         ],
         "xaxis": "x",
         "y": [
          "0_climate_must_change",
          "1_egypt_climate_crisis",
          "2_sheikh_sharm_el",
          "3_alaa_strike_prison",
          "4_cop_today_friends",
          "5_private_jets_coca"
         ],
         "yaxis": "y",
         "z": [
          [
           1.0000000000000002,
           0.8855428942194006,
           0.7861769924744565,
           0.7361386068059741,
           0.7352840328772161,
           0.7617242549992901
          ],
          [
           0.8855428942194006,
           1,
           0.7891216840514557,
           0.7112693083410994,
           0.695192280153538,
           0.7284794050645631
          ],
          [
           0.7861769924744565,
           0.7891216840514557,
           1.0000000000000004,
           0.7781547810667525,
           0.7133904263046513,
           0.640892062304739
          ],
          [
           0.7361386068059741,
           0.7112693083410994,
           0.7781547810667525,
           0.9999999999999997,
           0.7091473977295943,
           0.6580876987987436
          ],
          [
           0.7352840328772161,
           0.695192280153538,
           0.7133904263046513,
           0.7091473977295943,
           0.9999999999999991,
           0.756191099965863
          ],
          [
           0.7617242549992901,
           0.7284794050645631,
           0.640892062304739,
           0.6580876987987436,
           0.756191099965863,
           1
          ]
         ]
        }
       ],
       "layout": {
        "coloraxis": {
         "colorbar": {
          "title": {
           "text": "Similarity Score"
          }
         },
         "colorscale": [
          [
           0,
           "rgb(247,252,240)"
          ],
          [
           0.125,
           "rgb(224,243,219)"
          ],
          [
           0.25,
           "rgb(204,235,197)"
          ],
          [
           0.375,
           "rgb(168,221,181)"
          ],
          [
           0.5,
           "rgb(123,204,196)"
          ],
          [
           0.625,
           "rgb(78,179,211)"
          ],
          [
           0.75,
           "rgb(43,140,190)"
          ],
          [
           0.875,
           "rgb(8,104,172)"
          ],
          [
           1,
           "rgb(8,64,129)"
          ]
         ]
        },
        "height": 800,
        "hoverlabel": {
         "bgcolor": "white",
         "font": {
          "family": "Rockwell",
          "size": 16
         }
        },
        "legend": {
         "title": {
          "text": "Trend"
         }
        },
        "margin": {
         "t": 60
        },
        "showlegend": true,
        "template": {
         "data": {
          "bar": [
           {
            "error_x": {
             "color": "#2a3f5f"
            },
            "error_y": {
             "color": "#2a3f5f"
            },
            "marker": {
             "line": {
              "color": "#E5ECF6",
              "width": 0.5
             },
             "pattern": {
              "fillmode": "overlay",
              "size": 10,
              "solidity": 0.2
             }
            },
            "type": "bar"
           }
          ],
          "barpolar": [
           {
            "marker": {
             "line": {
              "color": "#E5ECF6",
              "width": 0.5
             },
             "pattern": {
              "fillmode": "overlay",
              "size": 10,
              "solidity": 0.2
             }
            },
            "type": "barpolar"
           }
          ],
          "carpet": [
           {
            "aaxis": {
             "endlinecolor": "#2a3f5f",
             "gridcolor": "white",
             "linecolor": "white",
             "minorgridcolor": "white",
             "startlinecolor": "#2a3f5f"
            },
            "baxis": {
             "endlinecolor": "#2a3f5f",
             "gridcolor": "white",
             "linecolor": "white",
             "minorgridcolor": "white",
             "startlinecolor": "#2a3f5f"
            },
            "type": "carpet"
           }
          ],
          "choropleth": [
           {
            "colorbar": {
             "outlinewidth": 0,
             "ticks": ""
            },
            "type": "choropleth"
           }
          ],
          "contour": [
           {
            "colorbar": {
             "outlinewidth": 0,
             "ticks": ""
            },
            "colorscale": [
             [
              0,
              "#0d0887"
             ],
             [
              0.1111111111111111,
              "#46039f"
             ],
             [
              0.2222222222222222,
              "#7201a8"
             ],
             [
              0.3333333333333333,
              "#9c179e"
             ],
             [
              0.4444444444444444,
              "#bd3786"
             ],
             [
              0.5555555555555556,
              "#d8576b"
             ],
             [
              0.6666666666666666,
              "#ed7953"
             ],
             [
              0.7777777777777778,
              "#fb9f3a"
             ],
             [
              0.8888888888888888,
              "#fdca26"
             ],
             [
              1,
              "#f0f921"
             ]
            ],
            "type": "contour"
           }
          ],
          "contourcarpet": [
           {
            "colorbar": {
             "outlinewidth": 0,
             "ticks": ""
            },
            "type": "contourcarpet"
           }
          ],
          "heatmap": [
           {
            "colorbar": {
             "outlinewidth": 0,
             "ticks": ""
            },
            "colorscale": [
             [
              0,
              "#0d0887"
             ],
             [
              0.1111111111111111,
              "#46039f"
             ],
             [
              0.2222222222222222,
              "#7201a8"
             ],
             [
              0.3333333333333333,
              "#9c179e"
             ],
             [
              0.4444444444444444,
              "#bd3786"
             ],
             [
              0.5555555555555556,
              "#d8576b"
             ],
             [
              0.6666666666666666,
              "#ed7953"
             ],
             [
              0.7777777777777778,
              "#fb9f3a"
             ],
             [
              0.8888888888888888,
              "#fdca26"
             ],
             [
              1,
              "#f0f921"
             ]
            ],
            "type": "heatmap"
           }
          ],
          "heatmapgl": [
           {
            "colorbar": {
             "outlinewidth": 0,
             "ticks": ""
            },
            "colorscale": [
             [
              0,
              "#0d0887"
             ],
             [
              0.1111111111111111,
              "#46039f"
             ],
             [
              0.2222222222222222,
              "#7201a8"
             ],
             [
              0.3333333333333333,
              "#9c179e"
             ],
             [
              0.4444444444444444,
              "#bd3786"
             ],
             [
              0.5555555555555556,
              "#d8576b"
             ],
             [
              0.6666666666666666,
              "#ed7953"
             ],
             [
              0.7777777777777778,
              "#fb9f3a"
             ],
             [
              0.8888888888888888,
              "#fdca26"
             ],
             [
              1,
              "#f0f921"
             ]
            ],
            "type": "heatmapgl"
           }
          ],
          "histogram": [
           {
            "marker": {
             "pattern": {
              "fillmode": "overlay",
              "size": 10,
              "solidity": 0.2
             }
            },
            "type": "histogram"
           }
          ],
          "histogram2d": [
           {
            "colorbar": {
             "outlinewidth": 0,
             "ticks": ""
            },
            "colorscale": [
             [
              0,
              "#0d0887"
             ],
             [
              0.1111111111111111,
              "#46039f"
             ],
             [
              0.2222222222222222,
              "#7201a8"
             ],
             [
              0.3333333333333333,
              "#9c179e"
             ],
             [
              0.4444444444444444,
              "#bd3786"
             ],
             [
              0.5555555555555556,
              "#d8576b"
             ],
             [
              0.6666666666666666,
              "#ed7953"
             ],
             [
              0.7777777777777778,
              "#fb9f3a"
             ],
             [
              0.8888888888888888,
              "#fdca26"
             ],
             [
              1,
              "#f0f921"
             ]
            ],
            "type": "histogram2d"
           }
          ],
          "histogram2dcontour": [
           {
            "colorbar": {
             "outlinewidth": 0,
             "ticks": ""
            },
            "colorscale": [
             [
              0,
              "#0d0887"
             ],
             [
              0.1111111111111111,
              "#46039f"
             ],
             [
              0.2222222222222222,
              "#7201a8"
             ],
             [
              0.3333333333333333,
              "#9c179e"
             ],
             [
              0.4444444444444444,
              "#bd3786"
             ],
             [
              0.5555555555555556,
              "#d8576b"
             ],
             [
              0.6666666666666666,
              "#ed7953"
             ],
             [
              0.7777777777777778,
              "#fb9f3a"
             ],
             [
              0.8888888888888888,
              "#fdca26"
             ],
             [
              1,
              "#f0f921"
             ]
            ],
            "type": "histogram2dcontour"
           }
          ],
          "mesh3d": [
           {
            "colorbar": {
             "outlinewidth": 0,
             "ticks": ""
            },
            "type": "mesh3d"
           }
          ],
          "parcoords": [
           {
            "line": {
             "colorbar": {
              "outlinewidth": 0,
              "ticks": ""
             }
            },
            "type": "parcoords"
           }
          ],
          "pie": [
           {
            "automargin": true,
            "type": "pie"
           }
          ],
          "scatter": [
           {
            "fillpattern": {
             "fillmode": "overlay",
             "size": 10,
             "solidity": 0.2
            },
            "type": "scatter"
           }
          ],
          "scatter3d": [
           {
            "line": {
             "colorbar": {
              "outlinewidth": 0,
              "ticks": ""
             }
            },
            "marker": {
             "colorbar": {
              "outlinewidth": 0,
              "ticks": ""
             }
            },
            "type": "scatter3d"
           }
          ],
          "scattercarpet": [
           {
            "marker": {
             "colorbar": {
              "outlinewidth": 0,
              "ticks": ""
             }
            },
            "type": "scattercarpet"
           }
          ],
          "scattergeo": [
           {
            "marker": {
             "colorbar": {
              "outlinewidth": 0,
              "ticks": ""
             }
            },
            "type": "scattergeo"
           }
          ],
          "scattergl": [
           {
            "marker": {
             "colorbar": {
              "outlinewidth": 0,
              "ticks": ""
             }
            },
            "type": "scattergl"
           }
          ],
          "scattermapbox": [
           {
            "marker": {
             "colorbar": {
              "outlinewidth": 0,
              "ticks": ""
             }
            },
            "type": "scattermapbox"
           }
          ],
          "scatterpolar": [
           {
            "marker": {
             "colorbar": {
              "outlinewidth": 0,
              "ticks": ""
             }
            },
            "type": "scatterpolar"
           }
          ],
          "scatterpolargl": [
           {
            "marker": {
             "colorbar": {
              "outlinewidth": 0,
              "ticks": ""
             }
            },
            "type": "scatterpolargl"
           }
          ],
          "scatterternary": [
           {
            "marker": {
             "colorbar": {
              "outlinewidth": 0,
              "ticks": ""
             }
            },
            "type": "scatterternary"
           }
          ],
          "surface": [
           {
            "colorbar": {
             "outlinewidth": 0,
             "ticks": ""
            },
            "colorscale": [
             [
              0,
              "#0d0887"
             ],
             [
              0.1111111111111111,
              "#46039f"
             ],
             [
              0.2222222222222222,
              "#7201a8"
             ],
             [
              0.3333333333333333,
              "#9c179e"
             ],
             [
              0.4444444444444444,
              "#bd3786"
             ],
             [
              0.5555555555555556,
              "#d8576b"
             ],
             [
              0.6666666666666666,
              "#ed7953"
             ],
             [
              0.7777777777777778,
              "#fb9f3a"
             ],
             [
              0.8888888888888888,
              "#fdca26"
             ],
             [
              1,
              "#f0f921"
             ]
            ],
            "type": "surface"
           }
          ],
          "table": [
           {
            "cells": {
             "fill": {
              "color": "#EBF0F8"
             },
             "line": {
              "color": "white"
             }
            },
            "header": {
             "fill": {
              "color": "#C8D4E3"
             },
             "line": {
              "color": "white"
             }
            },
            "type": "table"
           }
          ]
         },
         "layout": {
          "annotationdefaults": {
           "arrowcolor": "#2a3f5f",
           "arrowhead": 0,
           "arrowwidth": 1
          },
          "autotypenumbers": "strict",
          "coloraxis": {
           "colorbar": {
            "outlinewidth": 0,
            "ticks": ""
           }
          },
          "colorscale": {
           "diverging": [
            [
             0,
             "#8e0152"
            ],
            [
             0.1,
             "#c51b7d"
            ],
            [
             0.2,
             "#de77ae"
            ],
            [
             0.3,
             "#f1b6da"
            ],
            [
             0.4,
             "#fde0ef"
            ],
            [
             0.5,
             "#f7f7f7"
            ],
            [
             0.6,
             "#e6f5d0"
            ],
            [
             0.7,
             "#b8e186"
            ],
            [
             0.8,
             "#7fbc41"
            ],
            [
             0.9,
             "#4d9221"
            ],
            [
             1,
             "#276419"
            ]
           ],
           "sequential": [
            [
             0,
             "#0d0887"
            ],
            [
             0.1111111111111111,
             "#46039f"
            ],
            [
             0.2222222222222222,
             "#7201a8"
            ],
            [
             0.3333333333333333,
             "#9c179e"
            ],
            [
             0.4444444444444444,
             "#bd3786"
            ],
            [
             0.5555555555555556,
             "#d8576b"
            ],
            [
             0.6666666666666666,
             "#ed7953"
            ],
            [
             0.7777777777777778,
             "#fb9f3a"
            ],
            [
             0.8888888888888888,
             "#fdca26"
            ],
            [
             1,
             "#f0f921"
            ]
           ],
           "sequentialminus": [
            [
             0,
             "#0d0887"
            ],
            [
             0.1111111111111111,
             "#46039f"
            ],
            [
             0.2222222222222222,
             "#7201a8"
            ],
            [
             0.3333333333333333,
             "#9c179e"
            ],
            [
             0.4444444444444444,
             "#bd3786"
            ],
            [
             0.5555555555555556,
             "#d8576b"
            ],
            [
             0.6666666666666666,
             "#ed7953"
            ],
            [
             0.7777777777777778,
             "#fb9f3a"
            ],
            [
             0.8888888888888888,
             "#fdca26"
            ],
            [
             1,
             "#f0f921"
            ]
           ]
          },
          "colorway": [
           "#636efa",
           "#EF553B",
           "#00cc96",
           "#ab63fa",
           "#FFA15A",
           "#19d3f3",
           "#FF6692",
           "#B6E880",
           "#FF97FF",
           "#FECB52"
          ],
          "font": {
           "color": "#2a3f5f"
          },
          "geo": {
           "bgcolor": "white",
           "lakecolor": "white",
           "landcolor": "#E5ECF6",
           "showlakes": true,
           "showland": true,
           "subunitcolor": "white"
          },
          "hoverlabel": {
           "align": "left"
          },
          "hovermode": "closest",
          "mapbox": {
           "style": "light"
          },
          "paper_bgcolor": "white",
          "plot_bgcolor": "#E5ECF6",
          "polar": {
           "angularaxis": {
            "gridcolor": "white",
            "linecolor": "white",
            "ticks": ""
           },
           "bgcolor": "#E5ECF6",
           "radialaxis": {
            "gridcolor": "white",
            "linecolor": "white",
            "ticks": ""
           }
          },
          "scene": {
           "xaxis": {
            "backgroundcolor": "#E5ECF6",
            "gridcolor": "white",
            "gridwidth": 2,
            "linecolor": "white",
            "showbackground": true,
            "ticks": "",
            "zerolinecolor": "white"
           },
           "yaxis": {
            "backgroundcolor": "#E5ECF6",
            "gridcolor": "white",
            "gridwidth": 2,
            "linecolor": "white",
            "showbackground": true,
            "ticks": "",
            "zerolinecolor": "white"
           },
           "zaxis": {
            "backgroundcolor": "#E5ECF6",
            "gridcolor": "white",
            "gridwidth": 2,
            "linecolor": "white",
            "showbackground": true,
            "ticks": "",
            "zerolinecolor": "white"
           }
          },
          "shapedefaults": {
           "line": {
            "color": "#2a3f5f"
           }
          },
          "ternary": {
           "aaxis": {
            "gridcolor": "white",
            "linecolor": "white",
            "ticks": ""
           },
           "baxis": {
            "gridcolor": "white",
            "linecolor": "white",
            "ticks": ""
           },
           "bgcolor": "#E5ECF6",
           "caxis": {
            "gridcolor": "white",
            "linecolor": "white",
            "ticks": ""
           }
          },
          "title": {
           "x": 0.05
          },
          "xaxis": {
           "automargin": true,
           "gridcolor": "white",
           "linecolor": "white",
           "ticks": "",
           "title": {
            "standoff": 15
           },
           "zerolinecolor": "white",
           "zerolinewidth": 2
          },
          "yaxis": {
           "automargin": true,
           "gridcolor": "white",
           "linecolor": "white",
           "ticks": "",
           "title": {
            "standoff": 15
           },
           "zerolinecolor": "white",
           "zerolinewidth": 2
          }
         }
        },
        "title": {
         "font": {
          "color": "Black",
          "size": 22
         },
         "text": "<b>Similarity Matrix",
         "x": 0.55,
         "xanchor": "center",
         "y": 0.95,
         "yanchor": "top"
        },
        "width": 800,
        "xaxis": {
         "anchor": "y",
         "constrain": "domain",
         "domain": [
          0,
          1
         ],
         "scaleanchor": "y"
        },
        "yaxis": {
         "anchor": "x",
         "autorange": "reversed",
         "constrain": "domain",
         "domain": [
          0,
          1
         ]
        }
       }
      }
     },
     "metadata": {},
     "output_type": "display_data"
    }
   ],
   "source": [
    "topic_model.visualize_heatmap()"
   ]
  },
  {
   "cell_type": "code",
   "execution_count": 38,
   "metadata": {},
   "outputs": [
    {
     "data": {
      "application/vnd.plotly.v1+json": {
       "config": {
        "plotlyServerURL": "https://plot.ly"
       },
       "data": [
        {
         "hoverinfo": "text",
         "marker": {
          "color": "rgb(61,153,112)"
         },
         "mode": "lines",
         "type": "scatter",
         "x": [
          0,
          0.8998936284314698,
          0.8998936284314698,
          0
         ],
         "xaxis": "x",
         "y": [
          -25,
          -25,
          -35,
          -35
         ],
         "yaxis": "y"
        },
        {
         "hoverinfo": "text",
         "marker": {
          "color": "rgb(0,116,217)"
         },
         "mode": "lines",
         "type": "scatter",
         "x": [
          0.8998936284314698,
          1.0582330948969259,
          1.0582330948969259,
          0
         ],
         "xaxis": "x",
         "y": [
          -30,
          -30,
          -45,
          -45
         ],
         "yaxis": "y"
        },
        {
         "hoverinfo": "text",
         "marker": {
          "color": "rgb(0,116,217)"
         },
         "mode": "lines",
         "type": "scatter",
         "x": [
          0,
          1.2365091153725156,
          1.2365091153725156,
          1.0582330948969259
         ],
         "xaxis": "x",
         "y": [
          -15,
          -15,
          -37.5,
          -37.5
         ],
         "yaxis": "y"
        },
        {
         "hoverinfo": "text",
         "marker": {
          "color": "rgb(0,116,217)"
         },
         "mode": "lines",
         "type": "scatter",
         "x": [
          1.2365091153725156,
          1.2870415650320761,
          1.2870415650320761,
          0
         ],
         "xaxis": "x",
         "y": [
          -26.25,
          -26.25,
          -55,
          -55
         ],
         "yaxis": "y"
        },
        {
         "hoverinfo": "text",
         "marker": {
          "color": "rgb(0,116,217)"
         },
         "mode": "lines",
         "type": "scatter",
         "x": [
          0,
          1.3258089977681038,
          1.3258089977681038,
          1.2870415650320761
         ],
         "xaxis": "x",
         "y": [
          -5,
          -5,
          -40.625,
          -40.625
         ],
         "yaxis": "y"
        }
       ],
       "layout": {
        "autosize": false,
        "height": 290,
        "hoverlabel": {
         "bgcolor": "white",
         "font": {
          "family": "Rockwell",
          "size": 16
         }
        },
        "hovermode": "closest",
        "plot_bgcolor": "#ECEFF1",
        "showlegend": false,
        "template": {
         "data": {
          "bar": [
           {
            "error_x": {
             "color": "#2a3f5f"
            },
            "error_y": {
             "color": "#2a3f5f"
            },
            "marker": {
             "line": {
              "color": "white",
              "width": 0.5
             },
             "pattern": {
              "fillmode": "overlay",
              "size": 10,
              "solidity": 0.2
             }
            },
            "type": "bar"
           }
          ],
          "barpolar": [
           {
            "marker": {
             "line": {
              "color": "white",
              "width": 0.5
             },
             "pattern": {
              "fillmode": "overlay",
              "size": 10,
              "solidity": 0.2
             }
            },
            "type": "barpolar"
           }
          ],
          "carpet": [
           {
            "aaxis": {
             "endlinecolor": "#2a3f5f",
             "gridcolor": "#C8D4E3",
             "linecolor": "#C8D4E3",
             "minorgridcolor": "#C8D4E3",
             "startlinecolor": "#2a3f5f"
            },
            "baxis": {
             "endlinecolor": "#2a3f5f",
             "gridcolor": "#C8D4E3",
             "linecolor": "#C8D4E3",
             "minorgridcolor": "#C8D4E3",
             "startlinecolor": "#2a3f5f"
            },
            "type": "carpet"
           }
          ],
          "choropleth": [
           {
            "colorbar": {
             "outlinewidth": 0,
             "ticks": ""
            },
            "type": "choropleth"
           }
          ],
          "contour": [
           {
            "colorbar": {
             "outlinewidth": 0,
             "ticks": ""
            },
            "colorscale": [
             [
              0,
              "#0d0887"
             ],
             [
              0.1111111111111111,
              "#46039f"
             ],
             [
              0.2222222222222222,
              "#7201a8"
             ],
             [
              0.3333333333333333,
              "#9c179e"
             ],
             [
              0.4444444444444444,
              "#bd3786"
             ],
             [
              0.5555555555555556,
              "#d8576b"
             ],
             [
              0.6666666666666666,
              "#ed7953"
             ],
             [
              0.7777777777777778,
              "#fb9f3a"
             ],
             [
              0.8888888888888888,
              "#fdca26"
             ],
             [
              1,
              "#f0f921"
             ]
            ],
            "type": "contour"
           }
          ],
          "contourcarpet": [
           {
            "colorbar": {
             "outlinewidth": 0,
             "ticks": ""
            },
            "type": "contourcarpet"
           }
          ],
          "heatmap": [
           {
            "colorbar": {
             "outlinewidth": 0,
             "ticks": ""
            },
            "colorscale": [
             [
              0,
              "#0d0887"
             ],
             [
              0.1111111111111111,
              "#46039f"
             ],
             [
              0.2222222222222222,
              "#7201a8"
             ],
             [
              0.3333333333333333,
              "#9c179e"
             ],
             [
              0.4444444444444444,
              "#bd3786"
             ],
             [
              0.5555555555555556,
              "#d8576b"
             ],
             [
              0.6666666666666666,
              "#ed7953"
             ],
             [
              0.7777777777777778,
              "#fb9f3a"
             ],
             [
              0.8888888888888888,
              "#fdca26"
             ],
             [
              1,
              "#f0f921"
             ]
            ],
            "type": "heatmap"
           }
          ],
          "heatmapgl": [
           {
            "colorbar": {
             "outlinewidth": 0,
             "ticks": ""
            },
            "colorscale": [
             [
              0,
              "#0d0887"
             ],
             [
              0.1111111111111111,
              "#46039f"
             ],
             [
              0.2222222222222222,
              "#7201a8"
             ],
             [
              0.3333333333333333,
              "#9c179e"
             ],
             [
              0.4444444444444444,
              "#bd3786"
             ],
             [
              0.5555555555555556,
              "#d8576b"
             ],
             [
              0.6666666666666666,
              "#ed7953"
             ],
             [
              0.7777777777777778,
              "#fb9f3a"
             ],
             [
              0.8888888888888888,
              "#fdca26"
             ],
             [
              1,
              "#f0f921"
             ]
            ],
            "type": "heatmapgl"
           }
          ],
          "histogram": [
           {
            "marker": {
             "pattern": {
              "fillmode": "overlay",
              "size": 10,
              "solidity": 0.2
             }
            },
            "type": "histogram"
           }
          ],
          "histogram2d": [
           {
            "colorbar": {
             "outlinewidth": 0,
             "ticks": ""
            },
            "colorscale": [
             [
              0,
              "#0d0887"
             ],
             [
              0.1111111111111111,
              "#46039f"
             ],
             [
              0.2222222222222222,
              "#7201a8"
             ],
             [
              0.3333333333333333,
              "#9c179e"
             ],
             [
              0.4444444444444444,
              "#bd3786"
             ],
             [
              0.5555555555555556,
              "#d8576b"
             ],
             [
              0.6666666666666666,
              "#ed7953"
             ],
             [
              0.7777777777777778,
              "#fb9f3a"
             ],
             [
              0.8888888888888888,
              "#fdca26"
             ],
             [
              1,
              "#f0f921"
             ]
            ],
            "type": "histogram2d"
           }
          ],
          "histogram2dcontour": [
           {
            "colorbar": {
             "outlinewidth": 0,
             "ticks": ""
            },
            "colorscale": [
             [
              0,
              "#0d0887"
             ],
             [
              0.1111111111111111,
              "#46039f"
             ],
             [
              0.2222222222222222,
              "#7201a8"
             ],
             [
              0.3333333333333333,
              "#9c179e"
             ],
             [
              0.4444444444444444,
              "#bd3786"
             ],
             [
              0.5555555555555556,
              "#d8576b"
             ],
             [
              0.6666666666666666,
              "#ed7953"
             ],
             [
              0.7777777777777778,
              "#fb9f3a"
             ],
             [
              0.8888888888888888,
              "#fdca26"
             ],
             [
              1,
              "#f0f921"
             ]
            ],
            "type": "histogram2dcontour"
           }
          ],
          "mesh3d": [
           {
            "colorbar": {
             "outlinewidth": 0,
             "ticks": ""
            },
            "type": "mesh3d"
           }
          ],
          "parcoords": [
           {
            "line": {
             "colorbar": {
              "outlinewidth": 0,
              "ticks": ""
             }
            },
            "type": "parcoords"
           }
          ],
          "pie": [
           {
            "automargin": true,
            "type": "pie"
           }
          ],
          "scatter": [
           {
            "fillpattern": {
             "fillmode": "overlay",
             "size": 10,
             "solidity": 0.2
            },
            "type": "scatter"
           }
          ],
          "scatter3d": [
           {
            "line": {
             "colorbar": {
              "outlinewidth": 0,
              "ticks": ""
             }
            },
            "marker": {
             "colorbar": {
              "outlinewidth": 0,
              "ticks": ""
             }
            },
            "type": "scatter3d"
           }
          ],
          "scattercarpet": [
           {
            "marker": {
             "colorbar": {
              "outlinewidth": 0,
              "ticks": ""
             }
            },
            "type": "scattercarpet"
           }
          ],
          "scattergeo": [
           {
            "marker": {
             "colorbar": {
              "outlinewidth": 0,
              "ticks": ""
             }
            },
            "type": "scattergeo"
           }
          ],
          "scattergl": [
           {
            "marker": {
             "colorbar": {
              "outlinewidth": 0,
              "ticks": ""
             }
            },
            "type": "scattergl"
           }
          ],
          "scattermapbox": [
           {
            "marker": {
             "colorbar": {
              "outlinewidth": 0,
              "ticks": ""
             }
            },
            "type": "scattermapbox"
           }
          ],
          "scatterpolar": [
           {
            "marker": {
             "colorbar": {
              "outlinewidth": 0,
              "ticks": ""
             }
            },
            "type": "scatterpolar"
           }
          ],
          "scatterpolargl": [
           {
            "marker": {
             "colorbar": {
              "outlinewidth": 0,
              "ticks": ""
             }
            },
            "type": "scatterpolargl"
           }
          ],
          "scatterternary": [
           {
            "marker": {
             "colorbar": {
              "outlinewidth": 0,
              "ticks": ""
             }
            },
            "type": "scatterternary"
           }
          ],
          "surface": [
           {
            "colorbar": {
             "outlinewidth": 0,
             "ticks": ""
            },
            "colorscale": [
             [
              0,
              "#0d0887"
             ],
             [
              0.1111111111111111,
              "#46039f"
             ],
             [
              0.2222222222222222,
              "#7201a8"
             ],
             [
              0.3333333333333333,
              "#9c179e"
             ],
             [
              0.4444444444444444,
              "#bd3786"
             ],
             [
              0.5555555555555556,
              "#d8576b"
             ],
             [
              0.6666666666666666,
              "#ed7953"
             ],
             [
              0.7777777777777778,
              "#fb9f3a"
             ],
             [
              0.8888888888888888,
              "#fdca26"
             ],
             [
              1,
              "#f0f921"
             ]
            ],
            "type": "surface"
           }
          ],
          "table": [
           {
            "cells": {
             "fill": {
              "color": "#EBF0F8"
             },
             "line": {
              "color": "white"
             }
            },
            "header": {
             "fill": {
              "color": "#C8D4E3"
             },
             "line": {
              "color": "white"
             }
            },
            "type": "table"
           }
          ]
         },
         "layout": {
          "annotationdefaults": {
           "arrowcolor": "#2a3f5f",
           "arrowhead": 0,
           "arrowwidth": 1
          },
          "autotypenumbers": "strict",
          "coloraxis": {
           "colorbar": {
            "outlinewidth": 0,
            "ticks": ""
           }
          },
          "colorscale": {
           "diverging": [
            [
             0,
             "#8e0152"
            ],
            [
             0.1,
             "#c51b7d"
            ],
            [
             0.2,
             "#de77ae"
            ],
            [
             0.3,
             "#f1b6da"
            ],
            [
             0.4,
             "#fde0ef"
            ],
            [
             0.5,
             "#f7f7f7"
            ],
            [
             0.6,
             "#e6f5d0"
            ],
            [
             0.7,
             "#b8e186"
            ],
            [
             0.8,
             "#7fbc41"
            ],
            [
             0.9,
             "#4d9221"
            ],
            [
             1,
             "#276419"
            ]
           ],
           "sequential": [
            [
             0,
             "#0d0887"
            ],
            [
             0.1111111111111111,
             "#46039f"
            ],
            [
             0.2222222222222222,
             "#7201a8"
            ],
            [
             0.3333333333333333,
             "#9c179e"
            ],
            [
             0.4444444444444444,
             "#bd3786"
            ],
            [
             0.5555555555555556,
             "#d8576b"
            ],
            [
             0.6666666666666666,
             "#ed7953"
            ],
            [
             0.7777777777777778,
             "#fb9f3a"
            ],
            [
             0.8888888888888888,
             "#fdca26"
            ],
            [
             1,
             "#f0f921"
            ]
           ],
           "sequentialminus": [
            [
             0,
             "#0d0887"
            ],
            [
             0.1111111111111111,
             "#46039f"
            ],
            [
             0.2222222222222222,
             "#7201a8"
            ],
            [
             0.3333333333333333,
             "#9c179e"
            ],
            [
             0.4444444444444444,
             "#bd3786"
            ],
            [
             0.5555555555555556,
             "#d8576b"
            ],
            [
             0.6666666666666666,
             "#ed7953"
            ],
            [
             0.7777777777777778,
             "#fb9f3a"
            ],
            [
             0.8888888888888888,
             "#fdca26"
            ],
            [
             1,
             "#f0f921"
            ]
           ]
          },
          "colorway": [
           "#636efa",
           "#EF553B",
           "#00cc96",
           "#ab63fa",
           "#FFA15A",
           "#19d3f3",
           "#FF6692",
           "#B6E880",
           "#FF97FF",
           "#FECB52"
          ],
          "font": {
           "color": "#2a3f5f"
          },
          "geo": {
           "bgcolor": "white",
           "lakecolor": "white",
           "landcolor": "white",
           "showlakes": true,
           "showland": true,
           "subunitcolor": "#C8D4E3"
          },
          "hoverlabel": {
           "align": "left"
          },
          "hovermode": "closest",
          "mapbox": {
           "style": "light"
          },
          "paper_bgcolor": "white",
          "plot_bgcolor": "white",
          "polar": {
           "angularaxis": {
            "gridcolor": "#EBF0F8",
            "linecolor": "#EBF0F8",
            "ticks": ""
           },
           "bgcolor": "white",
           "radialaxis": {
            "gridcolor": "#EBF0F8",
            "linecolor": "#EBF0F8",
            "ticks": ""
           }
          },
          "scene": {
           "xaxis": {
            "backgroundcolor": "white",
            "gridcolor": "#DFE8F3",
            "gridwidth": 2,
            "linecolor": "#EBF0F8",
            "showbackground": true,
            "ticks": "",
            "zerolinecolor": "#EBF0F8"
           },
           "yaxis": {
            "backgroundcolor": "white",
            "gridcolor": "#DFE8F3",
            "gridwidth": 2,
            "linecolor": "#EBF0F8",
            "showbackground": true,
            "ticks": "",
            "zerolinecolor": "#EBF0F8"
           },
           "zaxis": {
            "backgroundcolor": "white",
            "gridcolor": "#DFE8F3",
            "gridwidth": 2,
            "linecolor": "#EBF0F8",
            "showbackground": true,
            "ticks": "",
            "zerolinecolor": "#EBF0F8"
           }
          },
          "shapedefaults": {
           "line": {
            "color": "#2a3f5f"
           }
          },
          "ternary": {
           "aaxis": {
            "gridcolor": "#DFE8F3",
            "linecolor": "#A2B1C6",
            "ticks": ""
           },
           "baxis": {
            "gridcolor": "#DFE8F3",
            "linecolor": "#A2B1C6",
            "ticks": ""
           },
           "bgcolor": "white",
           "caxis": {
            "gridcolor": "#DFE8F3",
            "linecolor": "#A2B1C6",
            "ticks": ""
           }
          },
          "title": {
           "x": 0.05
          },
          "xaxis": {
           "automargin": true,
           "gridcolor": "#EBF0F8",
           "linecolor": "#EBF0F8",
           "ticks": "",
           "title": {
            "standoff": 15
           },
           "zerolinecolor": "#EBF0F8",
           "zerolinewidth": 2
          },
          "yaxis": {
           "automargin": true,
           "gridcolor": "#EBF0F8",
           "linecolor": "#EBF0F8",
           "ticks": "",
           "title": {
            "standoff": 15
           },
           "zerolinecolor": "#EBF0F8",
           "zerolinewidth": 2
          }
         }
        },
        "title": {
         "font": {
          "color": "Black",
          "size": 22
         },
         "text": "<b>Hierarchical Clustering",
         "x": 0.5,
         "xanchor": "center",
         "yanchor": "top"
        },
        "width": 1000,
        "xaxis": {
         "mirror": "allticks",
         "rangemode": "tozero",
         "showgrid": false,
         "showline": true,
         "showticklabels": true,
         "ticks": "outside",
         "type": "linear",
         "zeroline": false
        },
        "yaxis": {
         "mirror": "allticks",
         "range": [
          -60,
          0
         ],
         "rangemode": "tozero",
         "showgrid": false,
         "showline": true,
         "showticklabels": true,
         "tickmode": "array",
         "ticks": "outside",
         "ticktext": [
          "3_alaa_strike_prison",
          "4_cop_today_friends",
          "1_egypt_climate_crisis",
          "0_climate_must_change",
          "2_sheikh_sharm_el",
          "5_private_jets_coca"
         ],
         "tickvals": [
          -5,
          -15,
          -25,
          -35,
          -45,
          -55
         ],
         "type": "linear",
         "zeroline": false
        }
       }
      }
     },
     "metadata": {},
     "output_type": "display_data"
    }
   ],
   "source": [
    "topic_model.visualize_hierarchy()"
   ]
  },
  {
   "cell_type": "code",
   "execution_count": 39,
   "metadata": {},
   "outputs": [
    {
     "data": {
      "text/plain": [
       "[' private jets world leaders flying climate summit discuss reduce carbon emission',\n",
       " 'told us wear masks socially distance yet held lavish parties they told us save planet yet travelled private jet motorcade told us play rules played set rules taking piss ',\n",
       " \"world 's elite arrived hundreds private jets lecture climate change sponsored coca cola \"]"
      ]
     },
     "execution_count": 39,
     "metadata": {},
     "output_type": "execute_result"
    }
   ],
   "source": [
    "representative_docs = topic_model.get_representative_docs(5)\n",
    "representative_docs"
   ]
  },
  {
   "cell_type": "code",
   "execution_count": 40,
   "metadata": {},
   "outputs": [
    {
     "data": {
      "text/html": [
       "<div>\n",
       "<style scoped>\n",
       "    .dataframe tbody tr th:only-of-type {\n",
       "        vertical-align: middle;\n",
       "    }\n",
       "\n",
       "    .dataframe tbody tr th {\n",
       "        vertical-align: top;\n",
       "    }\n",
       "\n",
       "    .dataframe thead th {\n",
       "        text-align: right;\n",
       "    }\n",
       "</style>\n",
       "<table border=\"1\" class=\"dataframe\">\n",
       "  <thead>\n",
       "    <tr style=\"text-align: right;\">\n",
       "      <th></th>\n",
       "      <th>Topic</th>\n",
       "      <th>Count</th>\n",
       "      <th>Name</th>\n",
       "    </tr>\n",
       "  </thead>\n",
       "  <tbody>\n",
       "    <tr>\n",
       "      <th>0</th>\n",
       "      <td>-1</td>\n",
       "      <td>107</td>\n",
       "      <td>-1_climate_world_president_minister</td>\n",
       "    </tr>\n",
       "    <tr>\n",
       "      <th>1</th>\n",
       "      <td>0</td>\n",
       "      <td>237</td>\n",
       "      <td>0_climate_must_change_sunak</td>\n",
       "    </tr>\n",
       "    <tr>\n",
       "      <th>2</th>\n",
       "      <td>1</td>\n",
       "      <td>47</td>\n",
       "      <td>1_egypt_climate_crisis_global</td>\n",
       "    </tr>\n",
       "    <tr>\n",
       "      <th>3</th>\n",
       "      <td>2</td>\n",
       "      <td>45</td>\n",
       "      <td>2_sheikh_sharm_el_summit</td>\n",
       "    </tr>\n",
       "    <tr>\n",
       "      <th>4</th>\n",
       "      <td>3</td>\n",
       "      <td>28</td>\n",
       "      <td>3_alaa_strike_prison_water</td>\n",
       "    </tr>\n",
       "    <tr>\n",
       "      <th>5</th>\n",
       "      <td>4</td>\n",
       "      <td>26</td>\n",
       "      <td>4_cop_today_friends_due</td>\n",
       "    </tr>\n",
       "    <tr>\n",
       "      <th>6</th>\n",
       "      <td>5</td>\n",
       "      <td>17</td>\n",
       "      <td>5_private_jets_coca_cola</td>\n",
       "    </tr>\n",
       "  </tbody>\n",
       "</table>\n",
       "</div>"
      ],
      "text/plain": [
       "   Topic  Count                                 Name\n",
       "0     -1    107  -1_climate_world_president_minister\n",
       "1      0    237          0_climate_must_change_sunak\n",
       "2      1     47        1_egypt_climate_crisis_global\n",
       "3      2     45             2_sheikh_sharm_el_summit\n",
       "4      3     28           3_alaa_strike_prison_water\n",
       "5      4     26              4_cop_today_friends_due\n",
       "6      5     17             5_private_jets_coca_cola"
      ]
     },
     "execution_count": 40,
     "metadata": {},
     "output_type": "execute_result"
    }
   ],
   "source": [
    "topic_model.get_topic_info()"
   ]
  },
  {
   "cell_type": "code",
   "execution_count": 41,
   "metadata": {},
   "outputs": [
    {
     "data": {
      "text/html": [
       "<div>\n",
       "<style scoped>\n",
       "    .dataframe tbody tr th:only-of-type {\n",
       "        vertical-align: middle;\n",
       "    }\n",
       "\n",
       "    .dataframe tbody tr th {\n",
       "        vertical-align: top;\n",
       "    }\n",
       "\n",
       "    .dataframe thead th {\n",
       "        text-align: right;\n",
       "    }\n",
       "</style>\n",
       "<table border=\"1\" class=\"dataframe\">\n",
       "  <thead>\n",
       "    <tr style=\"text-align: right;\">\n",
       "      <th></th>\n",
       "      <th>topic</th>\n",
       "      <th>document</th>\n",
       "    </tr>\n",
       "  </thead>\n",
       "  <tbody>\n",
       "    <tr>\n",
       "      <th>0</th>\n",
       "      <td>5</td>\n",
       "      <td>world 's elite arrived hundreds private jets l...</td>\n",
       "    </tr>\n",
       "    <tr>\n",
       "      <th>1</th>\n",
       "      <td>4</td>\n",
       "      <td>friends partners allies great meet today</td>\n",
       "    </tr>\n",
       "    <tr>\n",
       "      <th>2</th>\n",
       "      <td>-1</td>\n",
       "      <td>point maybe ask women help</td>\n",
       "    </tr>\n",
       "    <tr>\n",
       "      <th>3</th>\n",
       "      <td>0</td>\n",
       "      <td>climate change ravage planet without urgent ac...</td>\n",
       "    </tr>\n",
       "    <tr>\n",
       "      <th>4</th>\n",
       "      <td>0</td>\n",
       "      <td>warned global leaders highway climate hell foo...</td>\n",
       "    </tr>\n",
       "    <tr>\n",
       "      <th>...</th>\n",
       "      <td>...</td>\n",
       "      <td>...</td>\n",
       "    </tr>\n",
       "    <tr>\n",
       "      <th>502</th>\n",
       "      <td>0</td>\n",
       "      <td>'ve started work sharm el sheikh 'll spend nov...</td>\n",
       "    </tr>\n",
       "    <tr>\n",
       "      <th>503</th>\n",
       "      <td>0</td>\n",
       "      <td>face many challenges climate change biggest th...</td>\n",
       "    </tr>\n",
       "    <tr>\n",
       "      <th>504</th>\n",
       "      <td>5</td>\n",
       "      <td>jolly boys outing world leaders pretend climat...</td>\n",
       "    </tr>\n",
       "    <tr>\n",
       "      <th>505</th>\n",
       "      <td>4</td>\n",
       "      <td>heading along half plane ive since cop missed ...</td>\n",
       "    </tr>\n",
       "    <tr>\n",
       "      <th>506</th>\n",
       "      <td>0</td>\n",
       "      <td>much costto send reluctant sunak foots bill at...</td>\n",
       "    </tr>\n",
       "  </tbody>\n",
       "</table>\n",
       "<p>507 rows × 2 columns</p>\n",
       "</div>"
      ],
      "text/plain": [
       "     topic                                           document\n",
       "0        5  world 's elite arrived hundreds private jets l...\n",
       "1        4          friends partners allies great meet today \n",
       "2       -1                        point maybe ask women help \n",
       "3        0  climate change ravage planet without urgent ac...\n",
       "4        0  warned global leaders highway climate hell foo...\n",
       "..     ...                                                ...\n",
       "502      0  've started work sharm el sheikh 'll spend nov...\n",
       "503      0  face many challenges climate change biggest th...\n",
       "504      5  jolly boys outing world leaders pretend climat...\n",
       "505      4  heading along half plane ive since cop missed ...\n",
       "506      0  much costto send reluctant sunak foots bill at...\n",
       "\n",
       "[507 rows x 2 columns]"
      ]
     },
     "execution_count": 41,
     "metadata": {},
     "output_type": "execute_result"
    }
   ],
   "source": [
    "df_topics = pd.DataFrame({\"topic\": topics, \"document\": tweets})\n",
    "df_topics"
   ]
  },
  {
   "cell_type": "code",
   "execution_count": 42,
   "metadata": {},
   "outputs": [
    {
     "data": {
      "text/html": [
       "<div>\n",
       "<style scoped>\n",
       "    .dataframe tbody tr th:only-of-type {\n",
       "        vertical-align: middle;\n",
       "    }\n",
       "\n",
       "    .dataframe tbody tr th {\n",
       "        vertical-align: top;\n",
       "    }\n",
       "\n",
       "    .dataframe thead th {\n",
       "        text-align: right;\n",
       "    }\n",
       "</style>\n",
       "<table border=\"1\" class=\"dataframe\">\n",
       "  <thead>\n",
       "    <tr style=\"text-align: right;\">\n",
       "      <th></th>\n",
       "      <th>topic</th>\n",
       "      <th>document</th>\n",
       "    </tr>\n",
       "  </thead>\n",
       "  <tbody>\n",
       "    <tr>\n",
       "      <th>0</th>\n",
       "      <td>5_private_jets_cola_coca</td>\n",
       "      <td>world 's elite arrived hundreds private jets l...</td>\n",
       "    </tr>\n",
       "    <tr>\n",
       "      <th>1</th>\n",
       "      <td>4_cop_today_due_work</td>\n",
       "      <td>friends partners allies great meet today</td>\n",
       "    </tr>\n",
       "    <tr>\n",
       "      <th>2</th>\n",
       "      <td>-1_climate_minister_world_president</td>\n",
       "      <td>point maybe ask women help</td>\n",
       "    </tr>\n",
       "    <tr>\n",
       "      <th>3</th>\n",
       "      <td>0_climate_must_change_world</td>\n",
       "      <td>climate change ravage planet without urgent ac...</td>\n",
       "    </tr>\n",
       "    <tr>\n",
       "      <th>4</th>\n",
       "      <td>0_climate_must_change_world</td>\n",
       "      <td>warned global leaders highway climate hell foo...</td>\n",
       "    </tr>\n",
       "    <tr>\n",
       "      <th>...</th>\n",
       "      <td>...</td>\n",
       "      <td>...</td>\n",
       "    </tr>\n",
       "    <tr>\n",
       "      <th>502</th>\n",
       "      <td>0_climate_must_change_world</td>\n",
       "      <td>'ve started work sharm el sheikh 'll spend nov...</td>\n",
       "    </tr>\n",
       "    <tr>\n",
       "      <th>503</th>\n",
       "      <td>0_climate_must_change_world</td>\n",
       "      <td>face many challenges climate change biggest th...</td>\n",
       "    </tr>\n",
       "    <tr>\n",
       "      <th>504</th>\n",
       "      <td>5_private_jets_cola_coca</td>\n",
       "      <td>jolly boys outing world leaders pretend climat...</td>\n",
       "    </tr>\n",
       "    <tr>\n",
       "      <th>505</th>\n",
       "      <td>4_cop_today_due_work</td>\n",
       "      <td>heading along half plane ive since cop missed ...</td>\n",
       "    </tr>\n",
       "    <tr>\n",
       "      <th>506</th>\n",
       "      <td>0_climate_must_change_world</td>\n",
       "      <td>much costto send reluctant sunak foots bill at...</td>\n",
       "    </tr>\n",
       "  </tbody>\n",
       "</table>\n",
       "<p>507 rows × 2 columns</p>\n",
       "</div>"
      ],
      "text/plain": [
       "                                   topic  \\\n",
       "0               5_private_jets_cola_coca   \n",
       "1                   4_cop_today_due_work   \n",
       "2    -1_climate_minister_world_president   \n",
       "3            0_climate_must_change_world   \n",
       "4            0_climate_must_change_world   \n",
       "..                                   ...   \n",
       "502          0_climate_must_change_world   \n",
       "503          0_climate_must_change_world   \n",
       "504             5_private_jets_cola_coca   \n",
       "505                 4_cop_today_due_work   \n",
       "506          0_climate_must_change_world   \n",
       "\n",
       "                                              document  \n",
       "0    world 's elite arrived hundreds private jets l...  \n",
       "1            friends partners allies great meet today   \n",
       "2                          point maybe ask women help   \n",
       "3    climate change ravage planet without urgent ac...  \n",
       "4    warned global leaders highway climate hell foo...  \n",
       "..                                                 ...  \n",
       "502  've started work sharm el sheikh 'll spend nov...  \n",
       "503  face many challenges climate change biggest th...  \n",
       "504  jolly boys outing world leaders pretend climat...  \n",
       "505  heading along half plane ive since cop missed ...  \n",
       "506  much costto send reluctant sunak foots bill at...  \n",
       "\n",
       "[507 rows x 2 columns]"
      ]
     },
     "execution_count": 42,
     "metadata": {},
     "output_type": "execute_result"
    }
   ],
   "source": [
    "df_topics = pd.DataFrame({\"topic\": topics, \"document\": tweets})\n",
    "df_topics[\"topic\"] = df_topics[\"topic\"].replace(5, \"5_private_jets_cola_coca\")\n",
    "df_topics[\"topic\"] = df_topics[\"topic\"].replace(4, \"4_cop_today_due_work\")\n",
    "df_topics[\"topic\"] = df_topics[\"topic\"].replace(3, \"3_alaa_strike_prison_water\")\n",
    "df_topics[\"topic\"] = df_topics[\"topic\"].replace(2, \"2_sheikh_sharm_el_summit\")\n",
    "df_topics[\"topic\"] = df_topics[\"topic\"].replace(1, \"1_egypt_climate_crisis_russia\")\n",
    "df_topics[\"topic\"] = df_topics[\"topic\"].replace(0, \"0_climate_must_change_world\")\n",
    "df_topics[\"topic\"] = df_topics[\"topic\"].replace(-1, \"-1_climate_minister_world_president\")\n",
    "df_topics"
   ]
  },
  {
   "cell_type": "code",
   "execution_count": 48,
   "metadata": {},
   "outputs": [
    {
     "data": {
      "text/plain": [
       "<bound method Series.info of 0      55460\n",
       "1      38526\n",
       "2      22782\n",
       "3      21759\n",
       "4      19139\n",
       "       ...  \n",
       "502      265\n",
       "503      262\n",
       "504      261\n",
       "505      260\n",
       "506      258\n",
       "Name: number of likes, Length: 507, dtype: int64>"
      ]
     },
     "execution_count": 48,
     "metadata": {},
     "output_type": "execute_result"
    }
   ],
   "source": [
    "df['topics'] = df_topics[\"topic\"]\n",
    "df['number of likes'] = df['number of likes'].astype(str).astype(int)\n",
    "df['number of likes'].info"
   ]
  },
  {
   "cell_type": "code",
   "execution_count": 65,
   "metadata": {},
   "outputs": [],
   "source": [
    "df.to_csv('tweets_with_topics.csv')\n",
    "df.to_excel('tweets_with_topics.xlsx')"
   ]
  },
  {
   "cell_type": "code",
   "execution_count": 62,
   "metadata": {},
   "outputs": [],
   "source": [
    "df_topics_summed = df.groupby('topics')['number of likes'].sum()\n",
    "df_topics_summed = df_topics_summed.reset_index()\n",
    "df_topics_summed = df_topics_summed.sort_values(by=['number of likes'], ascending=False)"
   ]
  },
  {
   "cell_type": "code",
   "execution_count": 63,
   "metadata": {},
   "outputs": [
    {
     "data": {
      "image/png": "[encoded data removed]",
      "text/plain": [
       "<Figure size 640x480 with 1 Axes>"
      ]
     },
     "metadata": {},
     "output_type": "display_data"
    }
   ],
   "source": [
    "import seaborn as sns\n",
    "\n",
    "\n",
    "order = df.groupby('topics')['number of likes'].sum().sort_values(ascending=False).index\n",
    "#sns.barplot(data=df_emojis_topics, x=\"topics\", y=\"Number of Likes\", order=order)\n",
    "p = sns.barplot(x='number of likes',\n",
    "            y=\"topics\", \n",
    "            data=df_topics_summed)"
   ]
  },
  {
   "cell_type": "code",
   "execution_count": 64,
   "metadata": {},
   "outputs": [
    {
     "data": {
      "text/plain": [
       "<BarContainer object of 7 artists>"
      ]
     },
     "execution_count": 64,
     "metadata": {},
     "output_type": "execute_result"
    },
    {
     "data": {
      "image/png": "[encoded data removed]",
      "text/plain": [
       "<Figure size 1000x500 with 1 Axes>"
      ]
     },
     "metadata": {},
     "output_type": "display_data"
    }
   ],
   "source": [
    "import numpy as np\n",
    "import matplotlib.pyplot as plt\n",
    "\n",
    "topics = df_topics_summed['topics']\n",
    "likes = df_topics_summed['number of likes']\n",
    "  \n",
    "fig = plt.figure(figsize = (10, 5))\n",
    " \n",
    "# creating the bar plot\n",
    "plt.barh(topics, likes)"
   ]
  },
  {
   "cell_type": "code",
   "execution_count": 45,
   "metadata": {},
   "outputs": [],
   "source": [
    "df_topics.to_csv('df_preprocessed_topics.csv')\n",
    "df_topics.to_excel('df_preprocessed_topics.xlsx')"
   ]
  }
 ],
 "metadata": {
  "kernelspec": {
   "display_name": "Python 3.10.8 64-bit",
   "language": "python",
   "name": "python3"
  },
  "language_info": {
   "codemirror_mode": {
    "name": "ipython",
    "version": 3
   },
   "file_extension": ".py",
   "mimetype": "text/x-python",
   "name": "python",
   "nbconvert_exporter": "python",
   "pygments_lexer": "ipython3",
   "version": "3.10.8 (main, Oct 13 2022, 09:48:40) [Clang 14.0.0 (clang-1400.0.29.102)]"
  },
  "orig_nbformat": 4,
  "vscode": {
   "interpreter": {
    "hash": "b0fa6594d8f4cbf19f97940f81e996739fb7646882a419484c72d19e05852a7e"
   }
  }
 },
 "nbformat": 4,
 "nbformat_minor": 2
}
